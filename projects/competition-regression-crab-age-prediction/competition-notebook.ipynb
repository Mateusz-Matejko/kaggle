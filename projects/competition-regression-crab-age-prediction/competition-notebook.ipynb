{
 "cells": [
  {
   "cell_type": "code",
   "execution_count": 1,
   "id": "50b9fb27",
   "metadata": {},
   "outputs": [],
   "source": [
    "import pandas as pd\n",
    "import numpy as np\n",
    "import matplotlib.pyplot as plt\n",
    "import seaborn as sns\n",
    "from sklearn.tree import plot_tree\n",
    "\n",
    "from sklearn.model_selection import train_test_split\n",
    "# Regression\n",
    "from sklearn.ensemble import RandomForestRegressor\n",
    "from sklearn.neighbors import KNeighborsRegressor\n",
    "from sklearn.neural_network import MLPRegressor\n",
    "from sklearn.metrics import mean_absolute_error, r2_score, mean_squared_error\n",
    "# Clasification\n",
    "from sklearn.ensemble import RandomForestClassifier\n",
    "from sklearn.metrics import f1_score, precision_score, accuracy_score\n",
    "# Best_searches\n",
    "from sklearn.model_selection import GridSearchCV\n",
    "from sklearn.model_selection import RandomizedSearchCV\n",
    "# Standarization\n",
    "from sklearn.preprocessing import StandardScaler\n",
    "\n",
    "from keras import models\n",
    "from keras.layers import Dense"
   ]
  },
  {
   "cell_type": "code",
   "execution_count": 2,
   "id": "b8752593",
   "metadata": {},
   "outputs": [],
   "source": [
    "df_train = pd.read_csv('data/train.csv', encoding='utf8')\n",
    "df_test = pd.read_csv('data/test.csv', encoding='utf8')\n",
    "df_final = pd.read_csv('data/sample_submission.csv', encoding='utf8')"
   ]
  },
  {
   "cell_type": "code",
   "execution_count": 3,
   "id": "2f8b0b6a",
   "metadata": {},
   "outputs": [
    {
     "data": {
      "text/html": [
       "<div>\n",
       "<style scoped>\n",
       "    .dataframe tbody tr th:only-of-type {\n",
       "        vertical-align: middle;\n",
       "    }\n",
       "\n",
       "    .dataframe tbody tr th {\n",
       "        vertical-align: top;\n",
       "    }\n",
       "\n",
       "    .dataframe thead th {\n",
       "        text-align: right;\n",
       "    }\n",
       "</style>\n",
       "<table border=\"1\" class=\"dataframe\">\n",
       "  <thead>\n",
       "    <tr style=\"text-align: right;\">\n",
       "      <th></th>\n",
       "      <th>id</th>\n",
       "      <th>Sex</th>\n",
       "      <th>Length</th>\n",
       "      <th>Diameter</th>\n",
       "      <th>Height</th>\n",
       "      <th>Weight</th>\n",
       "      <th>Shucked Weight</th>\n",
       "      <th>Viscera Weight</th>\n",
       "      <th>Shell Weight</th>\n",
       "      <th>Age</th>\n",
       "    </tr>\n",
       "  </thead>\n",
       "  <tbody>\n",
       "    <tr>\n",
       "      <th>0</th>\n",
       "      <td>0</td>\n",
       "      <td>I</td>\n",
       "      <td>1.5250</td>\n",
       "      <td>1.1750</td>\n",
       "      <td>0.3750</td>\n",
       "      <td>28.973189</td>\n",
       "      <td>12.728926</td>\n",
       "      <td>6.647958</td>\n",
       "      <td>8.348928</td>\n",
       "      <td>9</td>\n",
       "    </tr>\n",
       "    <tr>\n",
       "      <th>1</th>\n",
       "      <td>1</td>\n",
       "      <td>I</td>\n",
       "      <td>1.1000</td>\n",
       "      <td>0.8250</td>\n",
       "      <td>0.2750</td>\n",
       "      <td>10.418441</td>\n",
       "      <td>4.521745</td>\n",
       "      <td>2.324659</td>\n",
       "      <td>3.401940</td>\n",
       "      <td>8</td>\n",
       "    </tr>\n",
       "    <tr>\n",
       "      <th>2</th>\n",
       "      <td>2</td>\n",
       "      <td>M</td>\n",
       "      <td>1.3875</td>\n",
       "      <td>1.1125</td>\n",
       "      <td>0.3750</td>\n",
       "      <td>24.777463</td>\n",
       "      <td>11.339800</td>\n",
       "      <td>5.556502</td>\n",
       "      <td>6.662133</td>\n",
       "      <td>9</td>\n",
       "    </tr>\n",
       "    <tr>\n",
       "      <th>3</th>\n",
       "      <td>3</td>\n",
       "      <td>F</td>\n",
       "      <td>1.7000</td>\n",
       "      <td>1.4125</td>\n",
       "      <td>0.5000</td>\n",
       "      <td>50.660556</td>\n",
       "      <td>20.354941</td>\n",
       "      <td>10.991839</td>\n",
       "      <td>14.996885</td>\n",
       "      <td>11</td>\n",
       "    </tr>\n",
       "    <tr>\n",
       "      <th>4</th>\n",
       "      <td>4</td>\n",
       "      <td>I</td>\n",
       "      <td>1.2500</td>\n",
       "      <td>1.0125</td>\n",
       "      <td>0.3375</td>\n",
       "      <td>23.289114</td>\n",
       "      <td>11.977664</td>\n",
       "      <td>4.507570</td>\n",
       "      <td>5.953395</td>\n",
       "      <td>8</td>\n",
       "    </tr>\n",
       "  </tbody>\n",
       "</table>\n",
       "</div>"
      ],
      "text/plain": [
       "   id Sex  Length  Diameter  Height     Weight  Shucked Weight   \n",
       "0   0   I  1.5250    1.1750  0.3750  28.973189       12.728926  \\\n",
       "1   1   I  1.1000    0.8250  0.2750  10.418441        4.521745   \n",
       "2   2   M  1.3875    1.1125  0.3750  24.777463       11.339800   \n",
       "3   3   F  1.7000    1.4125  0.5000  50.660556       20.354941   \n",
       "4   4   I  1.2500    1.0125  0.3375  23.289114       11.977664   \n",
       "\n",
       "   Viscera Weight  Shell Weight  Age  \n",
       "0        6.647958      8.348928    9  \n",
       "1        2.324659      3.401940    8  \n",
       "2        5.556502      6.662133    9  \n",
       "3       10.991839     14.996885   11  \n",
       "4        4.507570      5.953395    8  "
      ]
     },
     "execution_count": 3,
     "metadata": {},
     "output_type": "execute_result"
    }
   ],
   "source": [
    "# First look on data\n",
    "df_train.head()"
   ]
  },
  {
   "cell_type": "code",
   "execution_count": 4,
   "id": "b35e4387",
   "metadata": {},
   "outputs": [
    {
     "data": {
      "text/plain": [
       "(74051, 10)"
      ]
     },
     "execution_count": 4,
     "metadata": {},
     "output_type": "execute_result"
    }
   ],
   "source": [
    "df_train.shape"
   ]
  },
  {
   "cell_type": "code",
   "execution_count": 5,
   "id": "31642df6",
   "metadata": {},
   "outputs": [
    {
     "data": {
      "text/html": [
       "<div>\n",
       "<style scoped>\n",
       "    .dataframe tbody tr th:only-of-type {\n",
       "        vertical-align: middle;\n",
       "    }\n",
       "\n",
       "    .dataframe tbody tr th {\n",
       "        vertical-align: top;\n",
       "    }\n",
       "\n",
       "    .dataframe thead th {\n",
       "        text-align: right;\n",
       "    }\n",
       "</style>\n",
       "<table border=\"1\" class=\"dataframe\">\n",
       "  <thead>\n",
       "    <tr style=\"text-align: right;\">\n",
       "      <th></th>\n",
       "      <th>id</th>\n",
       "      <th>Sex</th>\n",
       "      <th>Length</th>\n",
       "      <th>Diameter</th>\n",
       "      <th>Height</th>\n",
       "      <th>Weight</th>\n",
       "      <th>Shucked Weight</th>\n",
       "      <th>Viscera Weight</th>\n",
       "      <th>Shell Weight</th>\n",
       "    </tr>\n",
       "  </thead>\n",
       "  <tbody>\n",
       "    <tr>\n",
       "      <th>0</th>\n",
       "      <td>74051</td>\n",
       "      <td>I</td>\n",
       "      <td>1.0500</td>\n",
       "      <td>0.7625</td>\n",
       "      <td>0.2750</td>\n",
       "      <td>8.618248</td>\n",
       "      <td>3.657085</td>\n",
       "      <td>1.729319</td>\n",
       "      <td>2.721552</td>\n",
       "    </tr>\n",
       "    <tr>\n",
       "      <th>1</th>\n",
       "      <td>74052</td>\n",
       "      <td>I</td>\n",
       "      <td>1.1625</td>\n",
       "      <td>0.8875</td>\n",
       "      <td>0.2750</td>\n",
       "      <td>15.507176</td>\n",
       "      <td>7.030676</td>\n",
       "      <td>3.246018</td>\n",
       "      <td>3.968930</td>\n",
       "    </tr>\n",
       "    <tr>\n",
       "      <th>2</th>\n",
       "      <td>74053</td>\n",
       "      <td>F</td>\n",
       "      <td>1.2875</td>\n",
       "      <td>0.9875</td>\n",
       "      <td>0.3250</td>\n",
       "      <td>14.571643</td>\n",
       "      <td>5.556502</td>\n",
       "      <td>3.883882</td>\n",
       "      <td>4.819415</td>\n",
       "    </tr>\n",
       "    <tr>\n",
       "      <th>3</th>\n",
       "      <td>74054</td>\n",
       "      <td>F</td>\n",
       "      <td>1.5500</td>\n",
       "      <td>0.9875</td>\n",
       "      <td>0.3875</td>\n",
       "      <td>28.377849</td>\n",
       "      <td>13.380964</td>\n",
       "      <td>6.548735</td>\n",
       "      <td>7.030676</td>\n",
       "    </tr>\n",
       "    <tr>\n",
       "      <th>4</th>\n",
       "      <td>74055</td>\n",
       "      <td>I</td>\n",
       "      <td>1.1125</td>\n",
       "      <td>0.8500</td>\n",
       "      <td>0.2625</td>\n",
       "      <td>11.765042</td>\n",
       "      <td>5.528153</td>\n",
       "      <td>2.466407</td>\n",
       "      <td>3.331066</td>\n",
       "    </tr>\n",
       "  </tbody>\n",
       "</table>\n",
       "</div>"
      ],
      "text/plain": [
       "      id Sex  Length  Diameter  Height     Weight  Shucked Weight   \n",
       "0  74051   I  1.0500    0.7625  0.2750   8.618248        3.657085  \\\n",
       "1  74052   I  1.1625    0.8875  0.2750  15.507176        7.030676   \n",
       "2  74053   F  1.2875    0.9875  0.3250  14.571643        5.556502   \n",
       "3  74054   F  1.5500    0.9875  0.3875  28.377849       13.380964   \n",
       "4  74055   I  1.1125    0.8500  0.2625  11.765042        5.528153   \n",
       "\n",
       "   Viscera Weight  Shell Weight  \n",
       "0        1.729319      2.721552  \n",
       "1        3.246018      3.968930  \n",
       "2        3.883882      4.819415  \n",
       "3        6.548735      7.030676  \n",
       "4        2.466407      3.331066  "
      ]
     },
     "execution_count": 5,
     "metadata": {},
     "output_type": "execute_result"
    }
   ],
   "source": [
    "df_test.head()"
   ]
  },
  {
   "cell_type": "code",
   "execution_count": 6,
   "id": "0109de42",
   "metadata": {},
   "outputs": [
    {
     "data": {
      "text/plain": [
       "(49368, 9)"
      ]
     },
     "execution_count": 6,
     "metadata": {},
     "output_type": "execute_result"
    }
   ],
   "source": [
    "df_test.shape"
   ]
  },
  {
   "cell_type": "code",
   "execution_count": 7,
   "id": "687f5710",
   "metadata": {},
   "outputs": [
    {
     "name": "stdout",
     "output_type": "stream",
     "text": [
      "(74051, 10) \n",
      "\n",
      "<class 'pandas.core.frame.DataFrame'>\n",
      "RangeIndex: 74051 entries, 0 to 74050\n",
      "Data columns (total 10 columns):\n",
      " #   Column          Non-Null Count  Dtype  \n",
      "---  ------          --------------  -----  \n",
      " 0   id              74051 non-null  int64  \n",
      " 1   Sex             74051 non-null  object \n",
      " 2   Length          74051 non-null  float64\n",
      " 3   Diameter        74051 non-null  float64\n",
      " 4   Height          74051 non-null  float64\n",
      " 5   Weight          74051 non-null  float64\n",
      " 6   Shucked Weight  74051 non-null  float64\n",
      " 7   Viscera Weight  74051 non-null  float64\n",
      " 8   Shell Weight    74051 non-null  float64\n",
      " 9   Age             74051 non-null  int64  \n",
      "dtypes: float64(7), int64(2), object(1)\n",
      "memory usage: 5.6+ MB\n"
     ]
    },
    {
     "data": {
      "text/plain": [
       "id                0\n",
       "Sex               0\n",
       "Length            0\n",
       "Diameter          0\n",
       "Height            0\n",
       "Weight            0\n",
       "Shucked Weight    0\n",
       "Viscera Weight    0\n",
       "Shell Weight      0\n",
       "Age               0\n",
       "dtype: int64"
      ]
     },
     "execution_count": 7,
     "metadata": {},
     "output_type": "execute_result"
    }
   ],
   "source": [
    "# Dataset shape\n",
    "print(df_train.shape, \"\\n\") # (74051, 10)\n",
    "\n",
    "# Get fimiliar with Dtypes of dataset\n",
    "df_train.info() # data-type is correct - Expect Sex\n",
    "\n",
    "# Find out any Null values\n",
    "df_train.isnull().sum() # 0 null values"
   ]
  },
  {
   "cell_type": "code",
   "execution_count": 8,
   "id": "554b7133",
   "metadata": {},
   "outputs": [
    {
     "data": {
      "text/html": [
       "<div>\n",
       "<style scoped>\n",
       "    .dataframe tbody tr th:only-of-type {\n",
       "        vertical-align: middle;\n",
       "    }\n",
       "\n",
       "    .dataframe tbody tr th {\n",
       "        vertical-align: top;\n",
       "    }\n",
       "\n",
       "    .dataframe thead th {\n",
       "        text-align: right;\n",
       "    }\n",
       "</style>\n",
       "<table border=\"1\" class=\"dataframe\">\n",
       "  <thead>\n",
       "    <tr style=\"text-align: right;\">\n",
       "      <th></th>\n",
       "      <th>id</th>\n",
       "      <th>Sex</th>\n",
       "      <th>Length</th>\n",
       "      <th>Diameter</th>\n",
       "      <th>Height</th>\n",
       "      <th>Weight</th>\n",
       "      <th>Shucked Weight</th>\n",
       "      <th>Viscera Weight</th>\n",
       "      <th>Shell Weight</th>\n",
       "      <th>Age</th>\n",
       "    </tr>\n",
       "  </thead>\n",
       "  <tbody>\n",
       "    <tr>\n",
       "      <th>count</th>\n",
       "      <td>74051.000000</td>\n",
       "      <td>74051</td>\n",
       "      <td>74051.000000</td>\n",
       "      <td>74051.000000</td>\n",
       "      <td>74051.000000</td>\n",
       "      <td>74051.000000</td>\n",
       "      <td>74051.000000</td>\n",
       "      <td>74051.000000</td>\n",
       "      <td>74051.000000</td>\n",
       "      <td>74051.000000</td>\n",
       "    </tr>\n",
       "    <tr>\n",
       "      <th>unique</th>\n",
       "      <td>NaN</td>\n",
       "      <td>3</td>\n",
       "      <td>NaN</td>\n",
       "      <td>NaN</td>\n",
       "      <td>NaN</td>\n",
       "      <td>NaN</td>\n",
       "      <td>NaN</td>\n",
       "      <td>NaN</td>\n",
       "      <td>NaN</td>\n",
       "      <td>NaN</td>\n",
       "    </tr>\n",
       "    <tr>\n",
       "      <th>top</th>\n",
       "      <td>NaN</td>\n",
       "      <td>M</td>\n",
       "      <td>NaN</td>\n",
       "      <td>NaN</td>\n",
       "      <td>NaN</td>\n",
       "      <td>NaN</td>\n",
       "      <td>NaN</td>\n",
       "      <td>NaN</td>\n",
       "      <td>NaN</td>\n",
       "      <td>NaN</td>\n",
       "    </tr>\n",
       "    <tr>\n",
       "      <th>freq</th>\n",
       "      <td>NaN</td>\n",
       "      <td>27084</td>\n",
       "      <td>NaN</td>\n",
       "      <td>NaN</td>\n",
       "      <td>NaN</td>\n",
       "      <td>NaN</td>\n",
       "      <td>NaN</td>\n",
       "      <td>NaN</td>\n",
       "      <td>NaN</td>\n",
       "      <td>NaN</td>\n",
       "    </tr>\n",
       "    <tr>\n",
       "      <th>mean</th>\n",
       "      <td>37025.000000</td>\n",
       "      <td>NaN</td>\n",
       "      <td>1.317460</td>\n",
       "      <td>1.024496</td>\n",
       "      <td>0.348089</td>\n",
       "      <td>23.385217</td>\n",
       "      <td>10.104270</td>\n",
       "      <td>5.058386</td>\n",
       "      <td>6.723870</td>\n",
       "      <td>9.967806</td>\n",
       "    </tr>\n",
       "    <tr>\n",
       "      <th>std</th>\n",
       "      <td>21376.826729</td>\n",
       "      <td>NaN</td>\n",
       "      <td>0.287757</td>\n",
       "      <td>0.237396</td>\n",
       "      <td>0.092034</td>\n",
       "      <td>12.648153</td>\n",
       "      <td>5.618025</td>\n",
       "      <td>2.792729</td>\n",
       "      <td>3.584372</td>\n",
       "      <td>3.175189</td>\n",
       "    </tr>\n",
       "    <tr>\n",
       "      <th>min</th>\n",
       "      <td>0.000000</td>\n",
       "      <td>NaN</td>\n",
       "      <td>0.187500</td>\n",
       "      <td>0.137500</td>\n",
       "      <td>0.000000</td>\n",
       "      <td>0.056699</td>\n",
       "      <td>0.028349</td>\n",
       "      <td>0.042524</td>\n",
       "      <td>0.042524</td>\n",
       "      <td>1.000000</td>\n",
       "    </tr>\n",
       "    <tr>\n",
       "      <th>25%</th>\n",
       "      <td>18512.500000</td>\n",
       "      <td>NaN</td>\n",
       "      <td>1.150000</td>\n",
       "      <td>0.887500</td>\n",
       "      <td>0.300000</td>\n",
       "      <td>13.437663</td>\n",
       "      <td>5.712424</td>\n",
       "      <td>2.863300</td>\n",
       "      <td>3.968930</td>\n",
       "      <td>8.000000</td>\n",
       "    </tr>\n",
       "    <tr>\n",
       "      <th>50%</th>\n",
       "      <td>37025.000000</td>\n",
       "      <td>NaN</td>\n",
       "      <td>1.375000</td>\n",
       "      <td>1.075000</td>\n",
       "      <td>0.362500</td>\n",
       "      <td>23.799405</td>\n",
       "      <td>9.908150</td>\n",
       "      <td>4.989512</td>\n",
       "      <td>6.931453</td>\n",
       "      <td>10.000000</td>\n",
       "    </tr>\n",
       "    <tr>\n",
       "      <th>75%</th>\n",
       "      <td>55537.500000</td>\n",
       "      <td>NaN</td>\n",
       "      <td>1.537500</td>\n",
       "      <td>1.200000</td>\n",
       "      <td>0.412500</td>\n",
       "      <td>32.162508</td>\n",
       "      <td>14.033003</td>\n",
       "      <td>6.988152</td>\n",
       "      <td>9.071840</td>\n",
       "      <td>11.000000</td>\n",
       "    </tr>\n",
       "    <tr>\n",
       "      <th>max</th>\n",
       "      <td>74050.000000</td>\n",
       "      <td>NaN</td>\n",
       "      <td>2.012815</td>\n",
       "      <td>1.612500</td>\n",
       "      <td>2.825000</td>\n",
       "      <td>80.101512</td>\n",
       "      <td>42.184056</td>\n",
       "      <td>21.545620</td>\n",
       "      <td>28.491248</td>\n",
       "      <td>29.000000</td>\n",
       "    </tr>\n",
       "  </tbody>\n",
       "</table>\n",
       "</div>"
      ],
      "text/plain": [
       "                  id    Sex        Length      Diameter        Height   \n",
       "count   74051.000000  74051  74051.000000  74051.000000  74051.000000  \\\n",
       "unique           NaN      3           NaN           NaN           NaN   \n",
       "top              NaN      M           NaN           NaN           NaN   \n",
       "freq             NaN  27084           NaN           NaN           NaN   \n",
       "mean    37025.000000    NaN      1.317460      1.024496      0.348089   \n",
       "std     21376.826729    NaN      0.287757      0.237396      0.092034   \n",
       "min         0.000000    NaN      0.187500      0.137500      0.000000   \n",
       "25%     18512.500000    NaN      1.150000      0.887500      0.300000   \n",
       "50%     37025.000000    NaN      1.375000      1.075000      0.362500   \n",
       "75%     55537.500000    NaN      1.537500      1.200000      0.412500   \n",
       "max     74050.000000    NaN      2.012815      1.612500      2.825000   \n",
       "\n",
       "              Weight  Shucked Weight  Viscera Weight  Shell Weight   \n",
       "count   74051.000000    74051.000000    74051.000000  74051.000000  \\\n",
       "unique           NaN             NaN             NaN           NaN   \n",
       "top              NaN             NaN             NaN           NaN   \n",
       "freq             NaN             NaN             NaN           NaN   \n",
       "mean       23.385217       10.104270        5.058386      6.723870   \n",
       "std        12.648153        5.618025        2.792729      3.584372   \n",
       "min         0.056699        0.028349        0.042524      0.042524   \n",
       "25%        13.437663        5.712424        2.863300      3.968930   \n",
       "50%        23.799405        9.908150        4.989512      6.931453   \n",
       "75%        32.162508       14.033003        6.988152      9.071840   \n",
       "max        80.101512       42.184056       21.545620     28.491248   \n",
       "\n",
       "                 Age  \n",
       "count   74051.000000  \n",
       "unique           NaN  \n",
       "top              NaN  \n",
       "freq             NaN  \n",
       "mean        9.967806  \n",
       "std         3.175189  \n",
       "min         1.000000  \n",
       "25%         8.000000  \n",
       "50%        10.000000  \n",
       "75%        11.000000  \n",
       "max        29.000000  "
      ]
     },
     "execution_count": 8,
     "metadata": {},
     "output_type": "execute_result"
    }
   ],
   "source": [
    "# Get fimiliar with dataset outliers and varaibles range\n",
    "df_train.describe(include='all')"
   ]
  },
  {
   "cell_type": "markdown",
   "id": "56dabeb2",
   "metadata": {},
   "source": [
    "## Variable Handling and feature_engineering"
   ]
  },
  {
   "cell_type": "code",
   "execution_count": 9,
   "id": "eb3fcaeb",
   "metadata": {},
   "outputs": [
    {
     "data": {
      "image/png": "[encoded data removed]",
      "text/plain": [
       "<Figure size 640x480 with 2 Axes>"
      ]
     },
     "metadata": {},
     "output_type": "display_data"
    }
   ],
   "source": [
    "# Base corelation without feature engineering.\n",
    "corr = df_train.corr(numeric_only=True)\n",
    "corr = corr.round(2)\n",
    "\n",
    "sns.heatmap(corr, cmap='coolwarm', annot=True, fmt=',.2f')\n",
    "\n",
    "plt.title('Correlation of numeric values in Iris dataset')\n",
    "\n",
    "plt.savefig('Correlogram_sns.png')"
   ]
  },
  {
   "cell_type": "code",
   "execution_count": 10,
   "id": "ff0bf1bf",
   "metadata": {},
   "outputs": [
    {
     "data": {
      "text/plain": [
       "Sex\n",
       "F    11.341547\n",
       "I     7.599073\n",
       "M    10.895953\n",
       "Name: Age, dtype: float64"
      ]
     },
     "execution_count": 10,
     "metadata": {},
     "output_type": "execute_result"
    }
   ],
   "source": [
    "# Handle Sex Variable\n",
    "df_train.groupby('Sex')['Age'].median()\n",
    "df_train.groupby('Sex')['Age'].mean()"
   ]
  },
  {
   "cell_type": "code",
   "execution_count": 11,
   "id": "63c468e9",
   "metadata": {},
   "outputs": [],
   "source": [
    "dict_sex = {\n",
    "    'M': 7.6,\n",
    "    'I': 10.9,\n",
    "    'F': 11.3\n",
    "             }\n",
    "\n",
    "df_train['Sex'] = df_train['Sex'].map(dict_sex)\n",
    "df_test['Sex'] = df_test['Sex'].map(dict_sex)"
   ]
  },
  {
   "cell_type": "code",
   "execution_count": 12,
   "id": "8a4e594c",
   "metadata": {},
   "outputs": [
    {
     "data": {
      "image/png": "[encoded data removed]",
      "text/plain": [
       "<Figure size 640x480 with 2 Axes>"
      ]
     },
     "metadata": {},
     "output_type": "display_data"
    }
   ],
   "source": [
    "corr = df_train.corr()\n",
    "corr = corr.round(2)\n",
    "\n",
    "sns.heatmap(corr, cmap='coolwarm', annot=True, fmt=',.2f')\n",
    "\n",
    "plt.title('Correlation of numeric values in Iris dataset')\n",
    "\n",
    "plt.savefig('Correlogram_sns.png')"
   ]
  },
  {
   "cell_type": "code",
   "execution_count": 13,
   "id": "abbb58e4",
   "metadata": {},
   "outputs": [
    {
     "data": {
      "image/png": "[encoded data removed]",
      "text/plain": [
       "<Figure size 800x400 with 1 Axes>"
      ]
     },
     "metadata": {},
     "output_type": "display_data"
    },
    {
     "data": {
      "image/png": "[encoded data removed]",
      "text/plain": [
       "<Figure size 800x400 with 1 Axes>"
      ]
     },
     "metadata": {},
     "output_type": "display_data"
    },
    {
     "data": {
      "image/png": "[encoded data removed]",
      "text/plain": [
       "<Figure size 800x400 with 1 Axes>"
      ]
     },
     "metadata": {},
     "output_type": "display_data"
    },
    {
     "data": {
      "image/png": "[encoded data removed]",
      "text/plain": [
       "<Figure size 800x400 with 1 Axes>"
      ]
     },
     "metadata": {},
     "output_type": "display_data"
    },
    {
     "data": {
      "image/png": "[encoded data removed]",
      "text/plain": [
       "<Figure size 800x400 with 1 Axes>"
      ]
     },
     "metadata": {},
     "output_type": "display_data"
    },
    {
     "data": {
      "image/png": "[encoded data removed]",
      "text/plain": [
       "<Figure size 800x400 with 1 Axes>"
      ]
     },
     "metadata": {},
     "output_type": "display_data"
    },
    {
     "data": {
      "image/png": "[encoded data removed]",
      "text/plain": [
       "<Figure size 800x400 with 1 Axes>"
      ]
     },
     "metadata": {},
     "output_type": "display_data"
    },
    {
     "data": {
      "image/png": "[encoded data removed]",
      "text/plain": [
       "<Figure size 800x400 with 1 Axes>"
      ]
     },
     "metadata": {},
     "output_type": "display_data"
    },
    {
     "data": {
      "image/png": "[encoded data removed]",
      "text/plain": [
       "<Figure size 800x400 with 1 Axes>"
      ]
     },
     "metadata": {},
     "output_type": "display_data"
    },
    {
     "data": {
      "image/png": "[encoded data removed]",
      "text/plain": [
       "<Figure size 800x400 with 1 Axes>"
      ]
     },
     "metadata": {},
     "output_type": "display_data"
    }
   ],
   "source": [
    "# Chosing the columns for withch to plot outliers \n",
    "columns_to_plot = df_train.columns\n",
    "\n",
    "# Box-plot creation for each column\n",
    "for column in columns_to_plot:\n",
    "    plt.figure(figsize=(8, 4))  # Size of plot\n",
    "    plt.boxplot(df_train[column])  # Boxpltot\n",
    "    plt.title(column)  # Title of plot\n",
    "    plt.show()"
   ]
  },
  {
   "cell_type": "code",
   "execution_count": 14,
   "id": "044c558f",
   "metadata": {
    "scrolled": true
   },
   "outputs": [
    {
     "data": {
      "image/png": "[encoded data removed]",
      "text/plain": [
       "<Figure size 800x400 with 1 Axes>"
      ]
     },
     "metadata": {},
     "output_type": "display_data"
    },
    {
     "data": {
      "image/png": "[encoded data removed]",
      "text/plain": [
       "<Figure size 800x400 with 1 Axes>"
      ]
     },
     "metadata": {},
     "output_type": "display_data"
    },
    {
     "data": {
      "image/png": "[encoded data removed]",
      "text/plain": [
       "<Figure size 800x400 with 1 Axes>"
      ]
     },
     "metadata": {},
     "output_type": "display_data"
    },
    {
     "data": {
      "image/png": "[encoded data removed]",
      "text/plain": [
       "<Figure size 800x400 with 1 Axes>"
      ]
     },
     "metadata": {},
     "output_type": "display_data"
    },
    {
     "data": {
      "image/png": "[encoded data removed]",
      "text/plain": [
       "<Figure size 800x400 with 1 Axes>"
      ]
     },
     "metadata": {},
     "output_type": "display_data"
    },
    {
     "data": {
      "image/png": "[encoded data removed]",
      "text/plain": [
       "<Figure size 800x400 with 1 Axes>"
      ]
     },
     "metadata": {},
     "output_type": "display_data"
    },
    {
     "data": {
      "image/png": "[encoded data removed]",
      "text/plain": [
       "<Figure size 800x400 with 1 Axes>"
      ]
     },
     "metadata": {},
     "output_type": "display_data"
    },
    {
     "data": {
      "image/png": "[encoded data removed]",
      "text/plain": [
       "<Figure size 800x400 with 1 Axes>"
      ]
     },
     "metadata": {},
     "output_type": "display_data"
    },
    {
     "data": {
      "image/png": "[encoded data removed]",
      "text/plain": [
       "<Figure size 800x400 with 1 Axes>"
      ]
     },
     "metadata": {},
     "output_type": "display_data"
    }
   ],
   "source": [
    "# Chosing the columns for withch to plot outliers \n",
    "columns_to_plot = df_test.columns\n",
    "\n",
    "# Box-plot creation for each column\n",
    "for column in columns_to_plot:\n",
    "    plt.figure(figsize=(8, 4))  # Size of plot\n",
    "    plt.boxplot(df_test[column])  # Boxpltot\n",
    "    plt.title(column)  # Title of plot\n",
    "    plt.show()"
   ]
  },
  {
   "cell_type": "code",
   "execution_count": 15,
   "id": "019b1aae",
   "metadata": {},
   "outputs": [],
   "source": [
    "# DIAMETER / LENGTH"
   ]
  },
  {
   "cell_type": "markdown",
   "id": "294314d7",
   "metadata": {},
   "source": [
    "## Possible feature enigneering "
   ]
  },
  {
   "cell_type": "code",
   "execution_count": 16,
   "id": "941b3ea5",
   "metadata": {},
   "outputs": [
    {
     "data": {
      "text/plain": [
       "Index(['id', 'Sex', 'Length', 'Diameter', 'Height', 'Weight', 'Shucked Weight',\n",
       "       'Viscera Weight', 'Shell Weight', 'Age'],\n",
       "      dtype='object')"
      ]
     },
     "execution_count": 16,
     "metadata": {},
     "output_type": "execute_result"
    }
   ],
   "source": [
    "df_train.columns"
   ]
  },
  {
   "cell_type": "code",
   "execution_count": 17,
   "id": "e15e3c36",
   "metadata": {},
   "outputs": [
    {
     "data": {
      "text/plain": [
       "Index(['id', 'Sex', 'Length', 'Diameter', 'Height', 'Weight', 'Shucked Weight',\n",
       "       'Viscera Weight', 'Shell Weight'],\n",
       "      dtype='object')"
      ]
     },
     "execution_count": 17,
     "metadata": {},
     "output_type": "execute_result"
    }
   ],
   "source": [
    "df_test.columns"
   ]
  },
  {
   "cell_type": "code",
   "execution_count": 18,
   "id": "548f705b",
   "metadata": {},
   "outputs": [],
   "source": [
    "# columns_with_outliers_df_train = ['Length', 'Diameter', 'Height', 'Weight', 'Shucked Weight',\n",
    "#        'Viscera Weight', 'Shell Weight']"
   ]
  },
  {
   "cell_type": "markdown",
   "id": "c873407c",
   "metadata": {},
   "source": [
    "What is outlier? \n",
    "\n",
    "'Length', \n",
    "'Diameter', \n",
    "'Height', \n",
    "'Weight', \n",
    "'Shucked Weight',\n",
    "'Viscera Weight', \n",
    "'Shell Weight'"
   ]
  },
  {
   "cell_type": "code",
   "execution_count": 19,
   "id": "c9befc5c",
   "metadata": {},
   "outputs": [],
   "source": [
    "# id_length_outliers = df[df['Length'] < 0.75]['id']"
   ]
  },
  {
   "cell_type": "code",
   "execution_count": 20,
   "id": "011c094a",
   "metadata": {},
   "outputs": [],
   "source": [
    "# df[df['Length'] < 0.75]['Age'].mean()"
   ]
  },
  {
   "cell_type": "code",
   "execution_count": 21,
   "id": "83cb5bf3",
   "metadata": {},
   "outputs": [],
   "source": [
    "# df[df['Length'] < 0.75]['Age']"
   ]
  },
  {
   "cell_type": "code",
   "execution_count": 22,
   "id": "07c9b0bc",
   "metadata": {},
   "outputs": [],
   "source": [
    "# id_diameter_outlers = df[df['Diameter'] < 0.6]['id']"
   ]
  },
  {
   "cell_type": "code",
   "execution_count": 23,
   "id": "d8d7c0ea",
   "metadata": {},
   "outputs": [],
   "source": [
    "# df[df['Diameter'] < 0.6]['Age'].mean()"
   ]
  },
  {
   "cell_type": "code",
   "execution_count": 24,
   "id": "a2081e9c",
   "metadata": {},
   "outputs": [],
   "source": [
    "# df['Age'].mean()"
   ]
  },
  {
   "cell_type": "markdown",
   "id": "e143db4b",
   "metadata": {},
   "source": [
    "### Removing Outliers!"
   ]
  },
  {
   "cell_type": "code",
   "execution_count": 25,
   "id": "b3ff4805",
   "metadata": {},
   "outputs": [],
   "source": [
    "# Q1 = df_train.quantile(0.25)\n",
    "# Q3 = df_train.quantile(0.75)\n",
    "# IQR = Q3 - Q1\n",
    "\n",
    "# # Define the upper and lower bounds\n",
    "# lower_bound = Q1 - 1.5 * IQR\n",
    "# upper_bound = Q3 + 1.5 * IQR\n",
    "\n",
    "# # Identify outliers\n",
    "# outliers = ((df_train < lower_bound) | (df_train > upper_bound)).any(axis=1)\n",
    "\n",
    "# # Remove outliers from the DataFrame\n",
    "# df_no_outliers = df_train[~outliers]"
   ]
  },
  {
   "cell_type": "code",
   "execution_count": 26,
   "id": "8cdcde28",
   "metadata": {},
   "outputs": [],
   "source": [
    "# df_no_outliers.shape"
   ]
  },
  {
   "cell_type": "code",
   "execution_count": 27,
   "id": "9bb42f8b",
   "metadata": {},
   "outputs": [],
   "source": [
    "# df_train = df_no_outliers"
   ]
  },
  {
   "cell_type": "code",
   "execution_count": 28,
   "id": "196db18b",
   "metadata": {},
   "outputs": [],
   "source": [
    "# print(len(id_length_outliers))\n",
    "# print(len(id_diameter_outlers))\n",
    "# print(len(set(id_diameter_outlers + id_length_outliers)))\n",
    "# print(len(np.intersect1d(id_diameter_outlers, id_length_outliers)))"
   ]
  },
  {
   "cell_type": "code",
   "execution_count": 29,
   "id": "76220a1c",
   "metadata": {},
   "outputs": [
    {
     "data": {
      "text/plain": [
       "Index(['id', 'Sex', 'Length', 'Diameter', 'Height', 'Weight', 'Shucked Weight',\n",
       "       'Viscera Weight', 'Shell Weight', 'Age'],\n",
       "      dtype='object')"
      ]
     },
     "execution_count": 29,
     "metadata": {},
     "output_type": "execute_result"
    }
   ],
   "source": [
    "df_train.columns"
   ]
  },
  {
   "cell_type": "code",
   "execution_count": 30,
   "id": "ea7d98ce",
   "metadata": {},
   "outputs": [],
   "source": [
    "# Creation"
   ]
  },
  {
   "cell_type": "code",
   "execution_count": 31,
   "id": "49b6ceb2",
   "metadata": {},
   "outputs": [],
   "source": [
    "numerical_cols = ['Length', 'Diameter', 'Height', 'Weight', \n",
    "                  'Shucked Weight', 'Viscera Weight', 'Shell Weight', 'Sex']"
   ]
  },
  {
   "cell_type": "code",
   "execution_count": 32,
   "id": "c73d705f",
   "metadata": {},
   "outputs": [],
   "source": [
    "scaler = StandardScaler()\n",
    "\n",
    "df_train[numerical_cols] = scaler.fit_transform(df_train[numerical_cols])"
   ]
  },
  {
   "cell_type": "code",
   "execution_count": 33,
   "id": "07901f28",
   "metadata": {},
   "outputs": [
    {
     "data": {
      "text/html": [
       "<div>\n",
       "<style scoped>\n",
       "    .dataframe tbody tr th:only-of-type {\n",
       "        vertical-align: middle;\n",
       "    }\n",
       "\n",
       "    .dataframe tbody tr th {\n",
       "        vertical-align: top;\n",
       "    }\n",
       "\n",
       "    .dataframe thead th {\n",
       "        text-align: right;\n",
       "    }\n",
       "</style>\n",
       "<table border=\"1\" class=\"dataframe\">\n",
       "  <thead>\n",
       "    <tr style=\"text-align: right;\">\n",
       "      <th></th>\n",
       "      <th>id</th>\n",
       "      <th>Sex</th>\n",
       "      <th>Length</th>\n",
       "      <th>Diameter</th>\n",
       "      <th>Height</th>\n",
       "      <th>Weight</th>\n",
       "      <th>Shucked Weight</th>\n",
       "      <th>Viscera Weight</th>\n",
       "      <th>Shell Weight</th>\n",
       "      <th>Age</th>\n",
       "    </tr>\n",
       "  </thead>\n",
       "  <tbody>\n",
       "    <tr>\n",
       "      <th>0</th>\n",
       "      <td>0</td>\n",
       "      <td>0.640141</td>\n",
       "      <td>0.721238</td>\n",
       "      <td>0.633982</td>\n",
       "      <td>0.292400</td>\n",
       "      <td>0.441804</td>\n",
       "      <td>0.467188</td>\n",
       "      <td>0.569186</td>\n",
       "      <td>0.453376</td>\n",
       "      <td>9</td>\n",
       "    </tr>\n",
       "    <tr>\n",
       "      <th>1</th>\n",
       "      <td>1</td>\n",
       "      <td>0.640141</td>\n",
       "      <td>-0.755712</td>\n",
       "      <td>-0.840356</td>\n",
       "      <td>-0.794163</td>\n",
       "      <td>-1.025198</td>\n",
       "      <td>-0.993688</td>\n",
       "      <td>-0.978880</td>\n",
       "      <td>-0.926788</td>\n",
       "      <td>8</td>\n",
       "    </tr>\n",
       "    <tr>\n",
       "      <th>2</th>\n",
       "      <td>2</td>\n",
       "      <td>-1.311011</td>\n",
       "      <td>0.243401</td>\n",
       "      <td>0.370707</td>\n",
       "      <td>0.292400</td>\n",
       "      <td>0.110076</td>\n",
       "      <td>0.219924</td>\n",
       "      <td>0.178363</td>\n",
       "      <td>-0.017224</td>\n",
       "      <td>9</td>\n",
       "    </tr>\n",
       "    <tr>\n",
       "      <th>3</th>\n",
       "      <td>3</td>\n",
       "      <td>0.876644</td>\n",
       "      <td>1.329394</td>\n",
       "      <td>1.634426</td>\n",
       "      <td>1.650603</td>\n",
       "      <td>2.156483</td>\n",
       "      <td>1.824616</td>\n",
       "      <td>2.124622</td>\n",
       "      <td>2.308095</td>\n",
       "      <td>11</td>\n",
       "    </tr>\n",
       "    <tr>\n",
       "      <th>4</th>\n",
       "      <td>4</td>\n",
       "      <td>0.640141</td>\n",
       "      <td>-0.234435</td>\n",
       "      <td>-0.050532</td>\n",
       "      <td>-0.115061</td>\n",
       "      <td>-0.007598</td>\n",
       "      <td>0.333464</td>\n",
       "      <td>-0.197233</td>\n",
       "      <td>-0.214955</td>\n",
       "      <td>8</td>\n",
       "    </tr>\n",
       "  </tbody>\n",
       "</table>\n",
       "</div>"
      ],
      "text/plain": [
       "   id       Sex    Length  Diameter    Height    Weight  Shucked Weight   \n",
       "0   0  0.640141  0.721238  0.633982  0.292400  0.441804        0.467188  \\\n",
       "1   1  0.640141 -0.755712 -0.840356 -0.794163 -1.025198       -0.993688   \n",
       "2   2 -1.311011  0.243401  0.370707  0.292400  0.110076        0.219924   \n",
       "3   3  0.876644  1.329394  1.634426  1.650603  2.156483        1.824616   \n",
       "4   4  0.640141 -0.234435 -0.050532 -0.115061 -0.007598        0.333464   \n",
       "\n",
       "   Viscera Weight  Shell Weight  Age  \n",
       "0        0.569186      0.453376    9  \n",
       "1       -0.978880     -0.926788    8  \n",
       "2        0.178363     -0.017224    9  \n",
       "3        2.124622      2.308095   11  \n",
       "4       -0.197233     -0.214955    8  "
      ]
     },
     "execution_count": 33,
     "metadata": {},
     "output_type": "execute_result"
    }
   ],
   "source": [
    "df_train.head()"
   ]
  },
  {
   "cell_type": "code",
   "execution_count": 34,
   "id": "57b55cdd",
   "metadata": {},
   "outputs": [
    {
     "data": {
      "text/html": [
       "<div>\n",
       "<style scoped>\n",
       "    .dataframe tbody tr th:only-of-type {\n",
       "        vertical-align: middle;\n",
       "    }\n",
       "\n",
       "    .dataframe tbody tr th {\n",
       "        vertical-align: top;\n",
       "    }\n",
       "\n",
       "    .dataframe thead th {\n",
       "        text-align: right;\n",
       "    }\n",
       "</style>\n",
       "<table border=\"1\" class=\"dataframe\">\n",
       "  <thead>\n",
       "    <tr style=\"text-align: right;\">\n",
       "      <th></th>\n",
       "      <th>id</th>\n",
       "      <th>Sex</th>\n",
       "      <th>Length</th>\n",
       "      <th>Diameter</th>\n",
       "      <th>Height</th>\n",
       "      <th>Weight</th>\n",
       "      <th>Shucked Weight</th>\n",
       "      <th>Viscera Weight</th>\n",
       "      <th>Shell Weight</th>\n",
       "      <th>Age</th>\n",
       "    </tr>\n",
       "  </thead>\n",
       "  <tbody>\n",
       "    <tr>\n",
       "      <th>count</th>\n",
       "      <td>74051.000000</td>\n",
       "      <td>7.405100e+04</td>\n",
       "      <td>7.405100e+04</td>\n",
       "      <td>7.405100e+04</td>\n",
       "      <td>7.405100e+04</td>\n",
       "      <td>7.405100e+04</td>\n",
       "      <td>7.405100e+04</td>\n",
       "      <td>7.405100e+04</td>\n",
       "      <td>7.405100e+04</td>\n",
       "      <td>74051.000000</td>\n",
       "    </tr>\n",
       "    <tr>\n",
       "      <th>mean</th>\n",
       "      <td>37025.000000</td>\n",
       "      <td>-7.593253e-16</td>\n",
       "      <td>-2.426655e-16</td>\n",
       "      <td>-3.259769e-16</td>\n",
       "      <td>1.399117e-16</td>\n",
       "      <td>2.424856e-16</td>\n",
       "      <td>1.116655e-17</td>\n",
       "      <td>-1.129009e-16</td>\n",
       "      <td>-5.760788e-17</td>\n",
       "      <td>9.967806</td>\n",
       "    </tr>\n",
       "    <tr>\n",
       "      <th>std</th>\n",
       "      <td>21376.826729</td>\n",
       "      <td>1.000007e+00</td>\n",
       "      <td>1.000007e+00</td>\n",
       "      <td>1.000007e+00</td>\n",
       "      <td>1.000007e+00</td>\n",
       "      <td>1.000007e+00</td>\n",
       "      <td>1.000007e+00</td>\n",
       "      <td>1.000007e+00</td>\n",
       "      <td>1.000007e+00</td>\n",
       "      <td>3.175189</td>\n",
       "    </tr>\n",
       "    <tr>\n",
       "      <th>min</th>\n",
       "      <td>0.000000</td>\n",
       "      <td>-1.311011e+00</td>\n",
       "      <td>-3.926810e+00</td>\n",
       "      <td>-3.736377e+00</td>\n",
       "      <td>-3.782211e+00</td>\n",
       "      <td>-1.844433e+00</td>\n",
       "      <td>-1.793511e+00</td>\n",
       "      <td>-1.796055e+00</td>\n",
       "      <td>-1.864034e+00</td>\n",
       "      <td>1.000000</td>\n",
       "    </tr>\n",
       "    <tr>\n",
       "      <th>25%</th>\n",
       "      <td>18512.500000</td>\n",
       "      <td>-1.311011e+00</td>\n",
       "      <td>-5.819530e-01</td>\n",
       "      <td>-5.770814e-01</td>\n",
       "      <td>-5.225224e-01</td>\n",
       "      <td>-7.864880e-01</td>\n",
       "      <td>-7.817471e-01</td>\n",
       "      <td>-7.860059e-01</td>\n",
       "      <td>-7.686029e-01</td>\n",
       "      <td>8.000000</td>\n",
       "    </tr>\n",
       "    <tr>\n",
       "      <th>50%</th>\n",
       "      <td>37025.000000</td>\n",
       "      <td>6.401406e-01</td>\n",
       "      <td>1.999617e-01</td>\n",
       "      <td>2.127426e-01</td>\n",
       "      <td>1.565793e-01</td>\n",
       "      <td>3.274716e-02</td>\n",
       "      <td>-3.490921e-02</td>\n",
       "      <td>-2.466207e-02</td>\n",
       "      <td>5.791364e-02</td>\n",
       "      <td>10.000000</td>\n",
       "    </tr>\n",
       "    <tr>\n",
       "      <th>75%</th>\n",
       "      <td>55537.500000</td>\n",
       "      <td>8.766438e-01</td>\n",
       "      <td>7.646778e-01</td>\n",
       "      <td>7.392919e-01</td>\n",
       "      <td>6.998607e-01</td>\n",
       "      <td>6.939630e-01</td>\n",
       "      <td>6.993132e-01</td>\n",
       "      <td>6.910012e-01</td>\n",
       "      <td>6.550619e-01</td>\n",
       "      <td>11.000000</td>\n",
       "    </tr>\n",
       "    <tr>\n",
       "      <th>max</th>\n",
       "      <td>74050.000000</td>\n",
       "      <td>8.766438e-01</td>\n",
       "      <td>2.416480e+00</td>\n",
       "      <td>2.476905e+00</td>\n",
       "      <td>2.691319e+01</td>\n",
       "      <td>4.484187e+00</td>\n",
       "      <td>5.710192e+00</td>\n",
       "      <td>5.903669e+00</td>\n",
       "      <td>6.072897e+00</td>\n",
       "      <td>29.000000</td>\n",
       "    </tr>\n",
       "  </tbody>\n",
       "</table>\n",
       "</div>"
      ],
      "text/plain": [
       "                 id           Sex        Length      Diameter        Height   \n",
       "count  74051.000000  7.405100e+04  7.405100e+04  7.405100e+04  7.405100e+04  \\\n",
       "mean   37025.000000 -7.593253e-16 -2.426655e-16 -3.259769e-16  1.399117e-16   \n",
       "std    21376.826729  1.000007e+00  1.000007e+00  1.000007e+00  1.000007e+00   \n",
       "min        0.000000 -1.311011e+00 -3.926810e+00 -3.736377e+00 -3.782211e+00   \n",
       "25%    18512.500000 -1.311011e+00 -5.819530e-01 -5.770814e-01 -5.225224e-01   \n",
       "50%    37025.000000  6.401406e-01  1.999617e-01  2.127426e-01  1.565793e-01   \n",
       "75%    55537.500000  8.766438e-01  7.646778e-01  7.392919e-01  6.998607e-01   \n",
       "max    74050.000000  8.766438e-01  2.416480e+00  2.476905e+00  2.691319e+01   \n",
       "\n",
       "             Weight  Shucked Weight  Viscera Weight  Shell Weight   \n",
       "count  7.405100e+04    7.405100e+04    7.405100e+04  7.405100e+04  \\\n",
       "mean   2.424856e-16    1.116655e-17   -1.129009e-16 -5.760788e-17   \n",
       "std    1.000007e+00    1.000007e+00    1.000007e+00  1.000007e+00   \n",
       "min   -1.844433e+00   -1.793511e+00   -1.796055e+00 -1.864034e+00   \n",
       "25%   -7.864880e-01   -7.817471e-01   -7.860059e-01 -7.686029e-01   \n",
       "50%    3.274716e-02   -3.490921e-02   -2.466207e-02  5.791364e-02   \n",
       "75%    6.939630e-01    6.993132e-01    6.910012e-01  6.550619e-01   \n",
       "max    4.484187e+00    5.710192e+00    5.903669e+00  6.072897e+00   \n",
       "\n",
       "                Age  \n",
       "count  74051.000000  \n",
       "mean       9.967806  \n",
       "std        3.175189  \n",
       "min        1.000000  \n",
       "25%        8.000000  \n",
       "50%       10.000000  \n",
       "75%       11.000000  \n",
       "max       29.000000  "
      ]
     },
     "execution_count": 34,
     "metadata": {},
     "output_type": "execute_result"
    }
   ],
   "source": [
    "df_train.describe()"
   ]
  },
  {
   "cell_type": "code",
   "execution_count": 35,
   "id": "da2f3773",
   "metadata": {},
   "outputs": [],
   "source": [
    "y = df_train['Age']\n",
    "\n",
    "df_train.drop(labels=['Age'], inplace=True, axis=1)\n",
    "\n",
    "X = df_train"
   ]
  },
  {
   "cell_type": "code",
   "execution_count": 36,
   "id": "68dd238c",
   "metadata": {},
   "outputs": [
    {
     "data": {
      "text/html": [
       "<div>\n",
       "<style scoped>\n",
       "    .dataframe tbody tr th:only-of-type {\n",
       "        vertical-align: middle;\n",
       "    }\n",
       "\n",
       "    .dataframe tbody tr th {\n",
       "        vertical-align: top;\n",
       "    }\n",
       "\n",
       "    .dataframe thead th {\n",
       "        text-align: right;\n",
       "    }\n",
       "</style>\n",
       "<table border=\"1\" class=\"dataframe\">\n",
       "  <thead>\n",
       "    <tr style=\"text-align: right;\">\n",
       "      <th></th>\n",
       "      <th>id</th>\n",
       "      <th>Sex</th>\n",
       "      <th>Length</th>\n",
       "      <th>Diameter</th>\n",
       "      <th>Height</th>\n",
       "      <th>Weight</th>\n",
       "      <th>Shucked Weight</th>\n",
       "      <th>Viscera Weight</th>\n",
       "      <th>Shell Weight</th>\n",
       "    </tr>\n",
       "  </thead>\n",
       "  <tbody>\n",
       "    <tr>\n",
       "      <th>0</th>\n",
       "      <td>0</td>\n",
       "      <td>0.640141</td>\n",
       "      <td>0.721238</td>\n",
       "      <td>0.633982</td>\n",
       "      <td>0.292400</td>\n",
       "      <td>0.441804</td>\n",
       "      <td>0.467188</td>\n",
       "      <td>0.569186</td>\n",
       "      <td>0.453376</td>\n",
       "    </tr>\n",
       "    <tr>\n",
       "      <th>1</th>\n",
       "      <td>1</td>\n",
       "      <td>0.640141</td>\n",
       "      <td>-0.755712</td>\n",
       "      <td>-0.840356</td>\n",
       "      <td>-0.794163</td>\n",
       "      <td>-1.025198</td>\n",
       "      <td>-0.993688</td>\n",
       "      <td>-0.978880</td>\n",
       "      <td>-0.926788</td>\n",
       "    </tr>\n",
       "    <tr>\n",
       "      <th>2</th>\n",
       "      <td>2</td>\n",
       "      <td>-1.311011</td>\n",
       "      <td>0.243401</td>\n",
       "      <td>0.370707</td>\n",
       "      <td>0.292400</td>\n",
       "      <td>0.110076</td>\n",
       "      <td>0.219924</td>\n",
       "      <td>0.178363</td>\n",
       "      <td>-0.017224</td>\n",
       "    </tr>\n",
       "    <tr>\n",
       "      <th>3</th>\n",
       "      <td>3</td>\n",
       "      <td>0.876644</td>\n",
       "      <td>1.329394</td>\n",
       "      <td>1.634426</td>\n",
       "      <td>1.650603</td>\n",
       "      <td>2.156483</td>\n",
       "      <td>1.824616</td>\n",
       "      <td>2.124622</td>\n",
       "      <td>2.308095</td>\n",
       "    </tr>\n",
       "    <tr>\n",
       "      <th>4</th>\n",
       "      <td>4</td>\n",
       "      <td>0.640141</td>\n",
       "      <td>-0.234435</td>\n",
       "      <td>-0.050532</td>\n",
       "      <td>-0.115061</td>\n",
       "      <td>-0.007598</td>\n",
       "      <td>0.333464</td>\n",
       "      <td>-0.197233</td>\n",
       "      <td>-0.214955</td>\n",
       "    </tr>\n",
       "  </tbody>\n",
       "</table>\n",
       "</div>"
      ],
      "text/plain": [
       "   id       Sex    Length  Diameter    Height    Weight  Shucked Weight   \n",
       "0   0  0.640141  0.721238  0.633982  0.292400  0.441804        0.467188  \\\n",
       "1   1  0.640141 -0.755712 -0.840356 -0.794163 -1.025198       -0.993688   \n",
       "2   2 -1.311011  0.243401  0.370707  0.292400  0.110076        0.219924   \n",
       "3   3  0.876644  1.329394  1.634426  1.650603  2.156483        1.824616   \n",
       "4   4  0.640141 -0.234435 -0.050532 -0.115061 -0.007598        0.333464   \n",
       "\n",
       "   Viscera Weight  Shell Weight  \n",
       "0        0.569186      0.453376  \n",
       "1       -0.978880     -0.926788  \n",
       "2        0.178363     -0.017224  \n",
       "3        2.124622      2.308095  \n",
       "4       -0.197233     -0.214955  "
      ]
     },
     "execution_count": 36,
     "metadata": {},
     "output_type": "execute_result"
    }
   ],
   "source": [
    "X.head()"
   ]
  },
  {
   "cell_type": "code",
   "execution_count": 37,
   "id": "c06a8807",
   "metadata": {},
   "outputs": [
    {
     "data": {
      "text/plain": [
       "0     9\n",
       "1     8\n",
       "2     9\n",
       "3    11\n",
       "4     8\n",
       "Name: Age, dtype: int64"
      ]
     },
     "execution_count": 37,
     "metadata": {},
     "output_type": "execute_result"
    }
   ],
   "source": [
    "y.head()"
   ]
  },
  {
   "cell_type": "code",
   "execution_count": 38,
   "id": "c547ffb8",
   "metadata": {},
   "outputs": [
    {
     "data": {
      "text/plain": [
       "(74051, 9)"
      ]
     },
     "execution_count": 38,
     "metadata": {},
     "output_type": "execute_result"
    }
   ],
   "source": [
    "df_train.shape"
   ]
  },
  {
   "cell_type": "code",
   "execution_count": 39,
   "id": "3d28f495",
   "metadata": {},
   "outputs": [],
   "source": [
    "X_train, X_test, y_train, y_test = train_test_split(X, y, random_state=42)"
   ]
  },
  {
   "cell_type": "markdown",
   "id": "f1fc7b4c",
   "metadata": {},
   "source": [
    "## Neural network"
   ]
  },
  {
   "cell_type": "markdown",
   "id": "6a753b41",
   "metadata": {},
   "source": [
    "### Keras neural network"
   ]
  },
  {
   "cell_type": "code",
   "execution_count": 47,
   "id": "4f983e48",
   "metadata": {},
   "outputs": [
    {
     "name": "stdout",
     "output_type": "stream",
     "text": [
      "Epoch 1/100\n",
      "217/217 [==============================] - 1s 2ms/step - loss: 9.8620 - mean_squared_error: 107.3175\n",
      "Epoch 2/100\n",
      "217/217 [==============================] - 0s 2ms/step - loss: 9.6450 - mean_squared_error: 103.0809\n",
      "Epoch 3/100\n",
      "217/217 [==============================] - 0s 2ms/step - loss: 9.4281 - mean_squared_error: 98.9447\n",
      "Epoch 4/100\n",
      "217/217 [==============================] - 0s 2ms/step - loss: 9.2111 - mean_squared_error: 94.8983\n",
      "Epoch 5/100\n",
      "217/217 [==============================] - 0s 2ms/step - loss: 8.9941 - mean_squared_error: 90.9490\n",
      "Epoch 6/100\n",
      "217/217 [==============================] - 0s 2ms/step - loss: 8.7772 - mean_squared_error: 87.0917\n",
      "Epoch 7/100\n",
      "217/217 [==============================] - 0s 2ms/step - loss: 8.5603 - mean_squared_error: 83.3324\n",
      "Epoch 8/100\n",
      "217/217 [==============================] - 1s 2ms/step - loss: 8.3434 - mean_squared_error: 79.6637\n",
      "Epoch 9/100\n",
      "217/217 [==============================] - 0s 2ms/step - loss: 8.1265 - mean_squared_error: 76.0922\n",
      "Epoch 10/100\n",
      "217/217 [==============================] - 1s 2ms/step - loss: 7.9097 - mean_squared_error: 72.6107\n",
      "Epoch 11/100\n",
      "217/217 [==============================] - 0s 2ms/step - loss: 7.6929 - mean_squared_error: 69.2262\n",
      "Epoch 12/100\n",
      "217/217 [==============================] - 0s 2ms/step - loss: 7.4761 - mean_squared_error: 65.9393\n",
      "Epoch 13/100\n",
      "217/217 [==============================] - 0s 2ms/step - loss: 7.2593 - mean_squared_error: 62.7427\n",
      "Epoch 14/100\n",
      "217/217 [==============================] - 0s 2ms/step - loss: 7.0425 - mean_squared_error: 59.6390\n",
      "Epoch 15/100\n",
      "217/217 [==============================] - 0s 2ms/step - loss: 6.8271 - mean_squared_error: 56.6384\n",
      "Epoch 16/100\n",
      "217/217 [==============================] - 0s 2ms/step - loss: 6.6123 - mean_squared_error: 53.7342\n",
      "Epoch 17/100\n",
      "217/217 [==============================] - 0s 2ms/step - loss: 6.3973 - mean_squared_error: 50.9267\n",
      "Epoch 18/100\n",
      "217/217 [==============================] - 0s 2ms/step - loss: 6.1823 - mean_squared_error: 48.2049\n",
      "Epoch 19/100\n",
      "217/217 [==============================] - 0s 2ms/step - loss: 5.9686 - mean_squared_error: 45.5869\n",
      "Epoch 20/100\n",
      "217/217 [==============================] - 1s 2ms/step - loss: 5.7625 - mean_squared_error: 43.1011\n",
      "Epoch 21/100\n",
      "217/217 [==============================] - 0s 2ms/step - loss: 5.5564 - mean_squared_error: 40.6956\n",
      "Epoch 22/100\n",
      "217/217 [==============================] - 0s 2ms/step - loss: 5.3496 - mean_squared_error: 38.3799\n",
      "Epoch 23/100\n",
      "217/217 [==============================] - 0s 2ms/step - loss: 5.1422 - mean_squared_error: 36.1471\n",
      "Epoch 24/100\n",
      "217/217 [==============================] - 0s 2ms/step - loss: 4.9415 - mean_squared_error: 34.0335\n",
      "Epoch 25/100\n",
      "217/217 [==============================] - 0s 2ms/step - loss: 4.7531 - mean_squared_error: 32.0623\n",
      "Epoch 26/100\n",
      "217/217 [==============================] - 0s 2ms/step - loss: 4.5631 - mean_squared_error: 30.1603\n",
      "Epoch 27/100\n",
      "217/217 [==============================] - 0s 2ms/step - loss: 4.3714 - mean_squared_error: 28.3295\n",
      "Epoch 28/100\n",
      "217/217 [==============================] - 0s 2ms/step - loss: 4.1785 - mean_squared_error: 26.5691\n",
      "Epoch 29/100\n",
      "217/217 [==============================] - 0s 2ms/step - loss: 4.0093 - mean_squared_error: 24.9974\n",
      "Epoch 30/100\n",
      "217/217 [==============================] - 0s 2ms/step - loss: 3.8588 - mean_squared_error: 23.5712\n",
      "Epoch 31/100\n",
      "217/217 [==============================] - 0s 2ms/step - loss: 3.7048 - mean_squared_error: 22.1805\n",
      "Epoch 32/100\n",
      "217/217 [==============================] - 0s 2ms/step - loss: 3.5476 - mean_squared_error: 20.8461\n",
      "Epoch 33/100\n",
      "217/217 [==============================] - 0s 2ms/step - loss: 3.3878 - mean_squared_error: 19.5636\n",
      "Epoch 34/100\n",
      "217/217 [==============================] - 0s 2ms/step - loss: 3.2526 - mean_squared_error: 18.4526\n",
      "Epoch 35/100\n",
      "217/217 [==============================] - 0s 2ms/step - loss: 3.1498 - mean_squared_error: 17.5145\n",
      "Epoch 36/100\n",
      "217/217 [==============================] - 0s 2ms/step - loss: 3.0429 - mean_squared_error: 16.5993\n",
      "Epoch 37/100\n",
      "217/217 [==============================] - 0s 2ms/step - loss: 2.9321 - mean_squared_error: 15.7148\n",
      "Epoch 38/100\n",
      "217/217 [==============================] - 0s 2ms/step - loss: 2.8177 - mean_squared_error: 14.8689\n",
      "Epoch 39/100\n",
      "217/217 [==============================] - 0s 2ms/step - loss: 2.7041 - mean_squared_error: 14.0833\n",
      "Epoch 40/100\n",
      "217/217 [==============================] - 0s 2ms/step - loss: 2.6455 - mean_squared_error: 13.5629\n",
      "Epoch 41/100\n",
      "217/217 [==============================] - 0s 2ms/step - loss: 2.6034 - mean_squared_error: 13.1239\n",
      "Epoch 42/100\n",
      "217/217 [==============================] - 0s 2ms/step - loss: 2.5582 - mean_squared_error: 12.6850\n",
      "Epoch 43/100\n",
      "217/217 [==============================] - 0s 2ms/step - loss: 2.5098 - mean_squared_error: 12.2549\n",
      "Epoch 44/100\n",
      "217/217 [==============================] - 0s 2ms/step - loss: 2.4585 - mean_squared_error: 11.8418\n",
      "Epoch 45/100\n",
      "217/217 [==============================] - 0s 2ms/step - loss: 2.4043 - mean_squared_error: 11.4520\n",
      "Epoch 46/100\n",
      "217/217 [==============================] - 0s 2ms/step - loss: 2.3487 - mean_squared_error: 11.0960\n",
      "Epoch 47/100\n",
      "217/217 [==============================] - 0s 2ms/step - loss: 2.3304 - mean_squared_error: 10.9696\n",
      "Epoch 48/100\n",
      "217/217 [==============================] - 0s 2ms/step - loss: 2.3303 - mean_squared_error: 10.9586\n",
      "Epoch 49/100\n",
      "217/217 [==============================] - 0s 2ms/step - loss: 2.3302 - mean_squared_error: 10.9457\n",
      "Epoch 50/100\n",
      "217/217 [==============================] - 0s 2ms/step - loss: 2.3301 - mean_squared_error: 10.9312\n",
      "Epoch 51/100\n",
      "217/217 [==============================] - 0s 2ms/step - loss: 2.3300 - mean_squared_error: 10.9148\n",
      "Epoch 52/100\n",
      "217/217 [==============================] - 0s 2ms/step - loss: 2.3299 - mean_squared_error: 10.8965\n",
      "Epoch 53/100\n",
      "217/217 [==============================] - 0s 2ms/step - loss: 2.3298 - mean_squared_error: 10.8773\n",
      "Epoch 54/100\n",
      "217/217 [==============================] - 0s 2ms/step - loss: 2.3297 - mean_squared_error: 10.8578\n",
      "Epoch 55/100\n",
      "217/217 [==============================] - 0s 2ms/step - loss: 2.3295 - mean_squared_error: 10.8356\n",
      "Epoch 56/100\n",
      "217/217 [==============================] - 0s 2ms/step - loss: 2.3294 - mean_squared_error: 10.8063\n",
      "Epoch 57/100\n",
      "217/217 [==============================] - 0s 2ms/step - loss: 2.3292 - mean_squared_error: 10.7792\n",
      "Epoch 58/100\n",
      "217/217 [==============================] - 0s 2ms/step - loss: 2.3290 - mean_squared_error: 10.7600\n",
      "Epoch 59/100\n",
      "217/217 [==============================] - 0s 2ms/step - loss: 2.3288 - mean_squared_error: 10.7263\n",
      "Epoch 60/100\n",
      "217/217 [==============================] - 0s 2ms/step - loss: 2.3286 - mean_squared_error: 10.6917\n",
      "Epoch 61/100\n",
      "217/217 [==============================] - 1s 2ms/step - loss: 2.3283 - mean_squared_error: 10.6617\n",
      "Epoch 62/100\n",
      "217/217 [==============================] - 0s 2ms/step - loss: 2.3281 - mean_squared_error: 10.6265\n",
      "Epoch 63/100\n",
      "217/217 [==============================] - 0s 2ms/step - loss: 2.3278 - mean_squared_error: 10.5852\n",
      "Epoch 64/100\n",
      "217/217 [==============================] - 1s 2ms/step - loss: 2.3275 - mean_squared_error: 10.5480\n",
      "Epoch 65/100\n",
      "217/217 [==============================] - 0s 2ms/step - loss: 2.3272 - mean_squared_error: 10.5033\n",
      "Epoch 66/100\n",
      "217/217 [==============================] - 0s 2ms/step - loss: 2.3269 - mean_squared_error: 10.4706\n",
      "Epoch 67/100\n",
      "217/217 [==============================] - 0s 2ms/step - loss: 2.3265 - mean_squared_error: 10.4304\n",
      "Epoch 68/100\n",
      "217/217 [==============================] - 0s 2ms/step - loss: 2.3261 - mean_squared_error: 10.3969\n",
      "Epoch 69/100\n",
      "217/217 [==============================] - 0s 2ms/step - loss: 2.3258 - mean_squared_error: 10.3606\n",
      "Epoch 70/100\n",
      "217/217 [==============================] - 0s 2ms/step - loss: 2.3254 - mean_squared_error: 10.3193\n",
      "Epoch 71/100\n",
      "217/217 [==============================] - 0s 2ms/step - loss: 2.3250 - mean_squared_error: 10.2844\n",
      "Epoch 72/100\n",
      "217/217 [==============================] - 0s 2ms/step - loss: 2.3246 - mean_squared_error: 10.2525\n",
      "Epoch 73/100\n",
      "217/217 [==============================] - 0s 2ms/step - loss: 2.3242 - mean_squared_error: 10.2258\n",
      "Epoch 74/100\n",
      "217/217 [==============================] - 0s 2ms/step - loss: 2.3237 - mean_squared_error: 10.1906\n",
      "Epoch 75/100\n",
      "217/217 [==============================] - 0s 2ms/step - loss: 2.3233 - mean_squared_error: 10.1646\n",
      "Epoch 76/100\n",
      "217/217 [==============================] - 0s 2ms/step - loss: 2.3229 - mean_squared_error: 10.1421\n",
      "Epoch 77/100\n",
      "217/217 [==============================] - 0s 2ms/step - loss: 2.3225 - mean_squared_error: 10.1202\n",
      "Epoch 78/100\n",
      "217/217 [==============================] - 0s 2ms/step - loss: 2.3220 - mean_squared_error: 10.1003\n",
      "Epoch 79/100\n",
      "217/217 [==============================] - 0s 2ms/step - loss: 2.3216 - mean_squared_error: 10.0866\n",
      "Epoch 80/100\n",
      "217/217 [==============================] - 0s 2ms/step - loss: 2.3212 - mean_squared_error: 10.0722\n",
      "Epoch 81/100\n",
      "217/217 [==============================] - 0s 2ms/step - loss: 2.3207 - mean_squared_error: 10.0634\n",
      "Epoch 82/100\n",
      "217/217 [==============================] - 0s 2ms/step - loss: 2.3203 - mean_squared_error: 10.0561\n",
      "Epoch 83/100\n",
      "217/217 [==============================] - 0s 2ms/step - loss: 2.3199 - mean_squared_error: 10.0533\n",
      "Epoch 84/100\n",
      "217/217 [==============================] - 0s 2ms/step - loss: 2.3195 - mean_squared_error: 10.0525\n",
      "Epoch 85/100\n",
      "217/217 [==============================] - 0s 2ms/step - loss: 2.3192 - mean_squared_error: 10.0531\n",
      "Epoch 86/100\n",
      "217/217 [==============================] - 0s 2ms/step - loss: 2.3192 - mean_squared_error: 10.0531\n",
      "Epoch 87/100\n",
      "217/217 [==============================] - 0s 2ms/step - loss: 2.3192 - mean_squared_error: 10.0530\n",
      "Epoch 88/100\n",
      "217/217 [==============================] - 1s 3ms/step - loss: 2.3192 - mean_squared_error: 10.0529\n",
      "Epoch 89/100\n",
      "217/217 [==============================] - 0s 2ms/step - loss: 2.3192 - mean_squared_error: 10.0530\n",
      "Epoch 90/100\n",
      "217/217 [==============================] - 0s 2ms/step - loss: 2.3192 - mean_squared_error: 10.0530\n",
      "Epoch 91/100\n",
      "217/217 [==============================] - 0s 2ms/step - loss: 2.3192 - mean_squared_error: 10.0529\n",
      "Epoch 92/100\n",
      "217/217 [==============================] - 0s 2ms/step - loss: 2.3192 - mean_squared_error: 10.0530\n",
      "Epoch 93/100\n",
      "217/217 [==============================] - 0s 2ms/step - loss: 2.3192 - mean_squared_error: 10.0530\n",
      "Epoch 94/100\n",
      "217/217 [==============================] - 0s 2ms/step - loss: 2.3192 - mean_squared_error: 10.0531\n",
      "Epoch 95/100\n",
      "217/217 [==============================] - 0s 2ms/step - loss: 2.3192 - mean_squared_error: 10.0531\n",
      "Epoch 96/100\n",
      "217/217 [==============================] - 0s 2ms/step - loss: 2.3192 - mean_squared_error: 10.0530\n",
      "Epoch 97/100\n",
      "217/217 [==============================] - 0s 2ms/step - loss: 2.3192 - mean_squared_error: 10.0530\n",
      "Epoch 98/100\n",
      "217/217 [==============================] - 0s 2ms/step - loss: 2.3192 - mean_squared_error: 10.0530\n",
      "Epoch 99/100\n",
      "217/217 [==============================] - 0s 2ms/step - loss: 2.3192 - mean_squared_error: 10.0531\n",
      "Epoch 100/100\n",
      "217/217 [==============================] - 0s 2ms/step - loss: 2.3192 - mean_squared_error: 10.0530\n",
      "1736/1736 [==============================] - 1s 362us/step\n",
      "579/579 [==============================] - 0s 367us/step\n",
      "MSE train:  2.3191560010777126\n",
      "MSE:  2.3402504097511954\n"
     ]
    }
   ],
   "source": [
    "model = models.Sequential()\n",
    "model.add(Dense(256, activation=\"relu\", input_shape=(X.shape[1],)))\n",
    "model.add(Dense(256, activation=\"relu\"))\n",
    "model.add(Dense(128, activation=\"relu\"))\n",
    "model.add(Dense(64, activation=\"relu\"))\n",
    "model.add(Dense(32, activation=\"relu\"))\n",
    "model.add(Dense(64, activation=\"relu\"))\n",
    "model.add(Dense(16, activation=\"relu\"))\n",
    "model.add(Dense(4, activation=\"relu\"))\n",
    "model.add(Dense(units=1))\n",
    "\n",
    "model.compile(optimizer=\"adam\", loss=\"mean_absolute_error\", metrics=[\"mean_absolute_error\"])\n",
    "\n",
    "model.fit(X_train, y_train, batch_size=256, epochs=100)\n",
    "\n",
    "y_pred_train = model.predict(X_train)\n",
    "y_pred = model.predict(X_test)\n",
    "\n",
    "print('MSE train: ', mean_absolute_error(y_train, y_pred_train))\n",
    "print('MSE: ', mean_absolute_error(y_test, y_pred))"
   ]
  },
  {
   "cell_type": "code",
   "execution_count": null,
   "id": "f43b5ea9",
   "metadata": {
    "scrolled": true
   },
   "outputs": [],
   "source": [
    "# model = models.Sequential()\n",
    "\n",
    "# model.add(Dense(128, activation=\"relu\", input_shape=(X.shape[1],)))\n",
    "# model.add(Dense(12, activation = \"relu\"))\n",
    "# model.add(Dense(24, activation = \"relu\"))\n",
    "# model.add(Dense(36, activation = \"relu\"))\n",
    "# model.add(Dense(64, activation = \"relu\"))\n",
    "# model.add(Dense(24, activation = \"relu\"))\n",
    "# model.add(Dense(12, activation = \"relu\"))\n",
    "# model.add(Dense(8, activation = \"relu\"))\n",
    "# model.add(Dense(4, activation = \"relu\"))\n",
    "# model.add(Dense(units = 1)) \n",
    "# model.compile(\n",
    "#     optimizer=\"adam\",\n",
    "#     loss=\"mean_absolute_error\",\n",
    "#     metrics=[\"mean_absolute_error\"]\n",
    "# )\n",
    "\n",
    "# model.fit(X_train, y_train, batch_size=256, epochs=100)\n",
    "\n",
    "# y_pred_train = model.predict(X_train)\n",
    "# y_pred = model.predict(X_test)\n",
    "\n",
    "# print('MSE train: ', mean_absolute_error(y_train, y_pred_train))\n",
    "# print('MSE: ', mean_absolute_error(y_test, y_pred))"
   ]
  },
  {
   "cell_type": "code",
   "execution_count": null,
   "id": "e907a3d4",
   "metadata": {},
   "outputs": [],
   "source": [
    "# # Define the hyperparameter grid\n",
    "# param_grid = {\n",
    "#     'hidden_layer_sizes': [(50,), (100,), (50, 50), (100, 100)],\n",
    "#     'batch_size': [32, 64, 128],\n",
    "#     'max_iter': [300, 500, 1000],\n",
    "#     'solver': ['adam', 'sgd']\n",
    "# }\n",
    "\n",
    "# # Create the MLPClassifier\n",
    "# model = MLPRe()\n",
    "\n",
    "# # Perform grid search\n",
    "# grid = GridSearchCV(estimator=model, param_grid=param_grid, cv=3)\n",
    "# grid_result = grid.fit(X, y)\n",
    "\n",
    "# # Print the best parameters and score\n",
    "# print(\"Best Parameters: \", grid_result.best_params_)\n",
    "# # print(\"Best Score: \", grid_result.best_score_)"
   ]
  },
  {
   "cell_type": "code",
   "execution_count": null,
   "id": "c00c114e",
   "metadata": {},
   "outputs": [],
   "source": [
    "# reg_model = MLPRegressor(\n",
    "#     hidden_layer_sizes=(),\n",
    "#     activation='relu',\n",
    "#     solver='adam',\n",
    "#     max_iter=2000,\n",
    "#     batch_size=64,\n",
    "#     random_state=42\n",
    "# )\n",
    "\n",
    "# reg_model.fit(X_train, y_train)\n",
    "# y_pred = reg_model.predict(X_test)\n",
    "\n",
    "# print(r2_score(y_test, y_pred))"
   ]
  },
  {
   "cell_type": "code",
   "execution_count": null,
   "id": "96bf8d1f",
   "metadata": {},
   "outputs": [],
   "source": []
  },
  {
   "cell_type": "code",
   "execution_count": null,
   "id": "31ea980d",
   "metadata": {},
   "outputs": [],
   "source": [
    "# Define the parameter grid for grid search\n",
    "param_dist = {\n",
    "    'n_estimators': np.arange(100, 500, 100),\n",
    "    'max_depth': np.arange(1, 70, 7),\n",
    "    'min_samples_leaf': (1, 70, 7),\n",
    "    'min_samples_split':(1, 70, 7),\n",
    "    'max_features': ['sqrt', 'log2']}\n",
    "\n",
    "# Create the Random Forest regressor\n",
    "rf = RandomForestRegressor()\n",
    "\n",
    "# Create the randomized search object\n",
    "random_search = RandomizedSearchCV(rf, param_distributions=param_dist, cv=5, n_iter=10)\n",
    "\n",
    "# Perform randomized search on the training data\n",
    "random_search.fit(X_train, y_train)\n",
    "\n",
    "# Get the best estimator and its corresponding parameters\n",
    "best_rf = random_search.best_estimator_\n",
    "print('Best Params: ', random_search.best_params_)\n",
    "\n",
    "# Fit the best estimator on the training data\n",
    "best_rf.fit(X_train, y_train)\n",
    "\n",
    "# Predict on the training and test data using the best estimator\n",
    "y_pred_train = best_rf.predict(X_train)\n",
    "y_pred = best_rf.predict(X_test)\n",
    "\n",
    "# Calculate the evaluation metrics\n",
    "\n",
    "print('Training Set Metrics:')\n",
    "print('f1_score:', (y_train, y_pred_train, average='weighted'))\n",
    "print('precision_score:', precision_score(y_train, y_pred_train, average='weighted'))\n",
    "print('accuracy_score:', accuracy_score(y_train, y_pred_train))\n",
    "\n",
    "# Test set\n",
    "print('Test Set Metrics:')\n",
    "print('f1_score:', f1_score(y_test, y_pred, average='weighted'))\n",
    "print('precision_score:', precision_score(y_test, y_pred, average='weighted'))\n",
    "print('accuracy_score:', accuracy_score(y_test, y_pred))"
   ]
  },
  {
   "cell_type": "code",
   "execution_count": null,
   "id": "a9eab1c1",
   "metadata": {},
   "outputs": [],
   "source": [
    "print('Training Set Metrics:')\n",
    "print('r2:', r2_score(y_train, y_pred_train))\n",
    "print('mae:', mean_absolute_error(y_train, y_pred_train))\n",
    "print('rmse:', mean_squared_error(y_train, y_pred_train))\n",
    "\n",
    "# Test set\n",
    "print('Test Set Metrics:')\n",
    "print('r2:', r2_score(y_test, y_pred))\n",
    "print('mae:', mean_absolute_error(y_test, y_pred))\n",
    "print('rmse:', mean_squared_error(y_test, y_pred))"
   ]
  },
  {
   "cell_type": "markdown",
   "id": "e76f8d3f",
   "metadata": {},
   "source": [
    "## Random Forest Classifier with Randomized Search\n",
    "### Note: Very bad results with RF_CLassifier\n",
    "\n",
    "Training Set Metrics: <br>\n",
    "f1_score: 0.42094732513047434 <br>\n",
    "precision_score: 0.47015912282841577 <br>\n",
    "accuracy_score: 0.44934999459829306 <br>\n",
    "Test Set Metrics: <br>\n",
    "f1_score: 0.30455725835328634 <br>\n",
    "precision_score: 0.3035991012714197 <br>\n",
    "accuracy_score: 0.3298222870415384 <br>"
   ]
  },
  {
   "cell_type": "code",
   "execution_count": null,
   "id": "25ab51e2",
   "metadata": {},
   "outputs": [],
   "source": [
    "# Clasification is going really bad for this data \n",
    "\n",
    "# # Define the parameter grid for grid search\n",
    "# param_dist = {\n",
    "#     'n_estimators': np.arange(100, 500, 100),\n",
    "#     'max_depth': np.arange(1, 70, 7),\n",
    "#     'min_samples_leaf': (1, 70, 7),\n",
    "#     'min_samples_split':(1, 70, 7),\n",
    "#     'max_features': ['sqrt', 'log2']}\n",
    "\n",
    "# # Create the Random Forest regressor\n",
    "# rf = RandomForestClassifier()\n",
    "\n",
    "# # Create the randomized search object\n",
    "# random_search = RandomizedSearchCV(rf, param_distributions=param_dist, cv=5, n_iter=15)\n",
    "\n",
    "# # Perform randomized search on the training data\n",
    "# random_search.fit(X_train, y_train)\n",
    "\n",
    "# # Get the best estimator and its corresponding parameters\n",
    "# best_rf = random_search.best_estimator_\n",
    "# print('Best Params: ', random_search.best_params_)\n",
    "\n",
    "# # Fit the best estimator on the training data\n",
    "# best_rf.fit(X_train, y_train)\n",
    "\n",
    "# # Predict on the training and test data using the best estimator\n",
    "# y_pred_train = best_rf.predict(X_train)\n",
    "# y_pred = best_rf.predict(X_test)\n",
    "\n",
    "# # Calculate the evaluation metrics\n",
    "\n",
    "# # Training set\n",
    "# print('Training Set Metrics:')\n",
    "# print('f1_score:', f1_score(y_train, y_pred_train, average='weighted'))\n",
    "# print('precision_score:', precision_score(y_train, y_pred_train, average='weighted'))\n",
    "# print('accuracy_score:', accuracy_score(y_train, y_pred_train))\n",
    "\n",
    "# # Test set\n",
    "# print('Test Set Metrics:')\n",
    "# print('f1_score:', f1_score(y_test, y_pred, average='weighted'))\n",
    "# print('precision_score:', precision_score(y_test, y_pred, average='weighted'))\n",
    "# print('accuracy_score:', accuracy_score(y_test, y_pred))"
   ]
  },
  {
   "cell_type": "markdown",
   "id": "e6eda330",
   "metadata": {},
   "source": [
    "## Random Forest Regressor with Randomized Search"
   ]
  },
  {
   "cell_type": "code",
   "execution_count": null,
   "id": "11873d4b",
   "metadata": {
    "scrolled": false
   },
   "outputs": [],
   "source": [
    "# # Define the parameter grid for grid search\n",
    "# param_dist = {\n",
    "#     'n_estimators': np.arange(100, 500, 100),\n",
    "#     'max_depth': np.arange(1, 70, 7),\n",
    "#     'min_samples_leaf': (1, 70, 7),\n",
    "#     'min_samples_split':(1, 70, 7),\n",
    "#     'max_features': ['sqrt', 'log2']}\n",
    "\n",
    "# # Create the Random Forest regressor\n",
    "# rf = RandomForestRegressor()\n",
    "\n",
    "# # Create the randomized search object\n",
    "# random_search = RandomizedSearchCV(rf, param_distributions=param_dist, cv=5, n_iter=15)\n",
    "\n",
    "# # Perform randomized search on the training data\n",
    "# random_search.fit(X_train, y_train)\n",
    "\n",
    "# # Get the best estimator and its corresponding parameters\n",
    "# best_rf = random_search.best_estimator_\n",
    "# print('Best Params: ', random_search.best_params_)\n",
    "\n",
    "# # Fit the best estimator on the training data\n",
    "# best_rf.fit(X_train, y_train)\n",
    "\n",
    "# # Predict on the training and test data using the best estimator\n",
    "# y_pred_train = best_rf.predict(X_train)\n",
    "# y_pred = best_rf.predict(X_test)\n",
    "\n",
    "# # Calculate the evaluation metrics\n",
    "\n",
    "# # Training set\n",
    "# print('Training Set Metrics:')\n",
    "# print('MAE:', mean_absolute_error(y_train, y_pred_train))\n",
    "# print('RMSE:', mean_squared_error(y_train, y_pred_train))\n",
    "# print('R2:', r2_score(y_train, y_pred_train))\n",
    "\n",
    "# # Test set\n",
    "# print('Test Set Metrics:')\n",
    "# print('MAE:', mean_absolute_error(y_test, y_pred))\n",
    "# print('RMSE:', mean_squared_error(y_test, y_pred))\n",
    "# print('R2:', r2_score(y_test, y_pred))"
   ]
  },
  {
   "cell_type": "markdown",
   "id": "6902bf7c",
   "metadata": {},
   "source": [
    "## Best scores on train_test"
   ]
  },
  {
   "cell_type": "markdown",
   "id": "d7fd60c3",
   "metadata": {},
   "source": [
    "### Random Forest Regressor\n",
    "\n",
    "Best Params:  <Br> \n",
    "{'n_estimators': 200, 'min_samples_split': 70, 'min_samples_leaf': 7, 'max_features': 'log2', 'max_depth': 22} <Br> \n",
    "Training Set Metrics: <Br> \n",
    "MAE: 1.3186759767733662 <Br> \n",
    "RMSE: 3.667818781824295 <Br> \n",
    "R2: 0.6351240884233136 <Br> \n",
    "Test Set Metrics: <Br> \n",
    "MAE: 1.4322469031663596 <Br> \n",
    "RMSE: 4.264537771944838 <Br> \n",
    "R2: 0.5806744531004705 <Br> "
   ]
  },
  {
   "cell_type": "markdown",
   "id": "64b61506",
   "metadata": {},
   "source": [
    "## Final model"
   ]
  },
  {
   "cell_type": "code",
   "execution_count": 48,
   "id": "0bcf4d5c",
   "metadata": {},
   "outputs": [],
   "source": [
    "#Scaller\n",
    "scaler = StandardScaler()\n",
    "\n",
    "df_test[numerical_cols] = scaler.fit_transform(df_test[numerical_cols])"
   ]
  },
  {
   "cell_type": "code",
   "execution_count": 49,
   "id": "bc3bf8b6",
   "metadata": {},
   "outputs": [],
   "source": [
    "X_final = df_test"
   ]
  },
  {
   "cell_type": "code",
   "execution_count": 50,
   "id": "f98a3f0b",
   "metadata": {},
   "outputs": [
    {
     "data": {
      "text/html": [
       "<div>\n",
       "<style scoped>\n",
       "    .dataframe tbody tr th:only-of-type {\n",
       "        vertical-align: middle;\n",
       "    }\n",
       "\n",
       "    .dataframe tbody tr th {\n",
       "        vertical-align: top;\n",
       "    }\n",
       "\n",
       "    .dataframe thead th {\n",
       "        text-align: right;\n",
       "    }\n",
       "</style>\n",
       "<table border=\"1\" class=\"dataframe\">\n",
       "  <thead>\n",
       "    <tr style=\"text-align: right;\">\n",
       "      <th></th>\n",
       "      <th>id</th>\n",
       "      <th>Sex</th>\n",
       "      <th>Length</th>\n",
       "      <th>Diameter</th>\n",
       "      <th>Height</th>\n",
       "      <th>Weight</th>\n",
       "      <th>Shucked Weight</th>\n",
       "      <th>Viscera Weight</th>\n",
       "      <th>Shell Weight</th>\n",
       "    </tr>\n",
       "  </thead>\n",
       "  <tbody>\n",
       "    <tr>\n",
       "      <th>0</th>\n",
       "      <td>74051</td>\n",
       "      <td>0.635001</td>\n",
       "      <td>-0.940227</td>\n",
       "      <td>-1.115249</td>\n",
       "      <td>-0.798762</td>\n",
       "      <td>-1.174409</td>\n",
       "      <td>-1.153502</td>\n",
       "      <td>-1.197655</td>\n",
       "      <td>-1.125492</td>\n",
       "    </tr>\n",
       "    <tr>\n",
       "      <th>1</th>\n",
       "      <td>74052</td>\n",
       "      <td>0.635001</td>\n",
       "      <td>-0.548169</td>\n",
       "      <td>-0.586910</td>\n",
       "      <td>-0.798762</td>\n",
       "      <td>-0.629467</td>\n",
       "      <td>-0.552334</td>\n",
       "      <td>-0.654334</td>\n",
       "      <td>-0.776635</td>\n",
       "    </tr>\n",
       "    <tr>\n",
       "      <th>2</th>\n",
       "      <td>74053</td>\n",
       "      <td>0.871805</td>\n",
       "      <td>-0.112548</td>\n",
       "      <td>-0.164238</td>\n",
       "      <td>-0.256807</td>\n",
       "      <td>-0.703471</td>\n",
       "      <td>-0.815029</td>\n",
       "      <td>-0.425835</td>\n",
       "      <td>-0.538778</td>\n",
       "    </tr>\n",
       "    <tr>\n",
       "      <th>3</th>\n",
       "      <td>74054</td>\n",
       "      <td>0.871805</td>\n",
       "      <td>0.802256</td>\n",
       "      <td>-0.164238</td>\n",
       "      <td>0.420637</td>\n",
       "      <td>0.388656</td>\n",
       "      <td>0.579278</td>\n",
       "      <td>0.528784</td>\n",
       "      <td>0.079651</td>\n",
       "    </tr>\n",
       "    <tr>\n",
       "      <th>4</th>\n",
       "      <td>74055</td>\n",
       "      <td>0.635001</td>\n",
       "      <td>-0.722417</td>\n",
       "      <td>-0.745411</td>\n",
       "      <td>-0.934251</td>\n",
       "      <td>-0.925485</td>\n",
       "      <td>-0.820081</td>\n",
       "      <td>-0.933611</td>\n",
       "      <td>-0.955027</td>\n",
       "    </tr>\n",
       "  </tbody>\n",
       "</table>\n",
       "</div>"
      ],
      "text/plain": [
       "      id       Sex    Length  Diameter    Height    Weight  Shucked Weight   \n",
       "0  74051  0.635001 -0.940227 -1.115249 -0.798762 -1.174409       -1.153502  \\\n",
       "1  74052  0.635001 -0.548169 -0.586910 -0.798762 -0.629467       -0.552334   \n",
       "2  74053  0.871805 -0.112548 -0.164238 -0.256807 -0.703471       -0.815029   \n",
       "3  74054  0.871805  0.802256 -0.164238  0.420637  0.388656        0.579278   \n",
       "4  74055  0.635001 -0.722417 -0.745411 -0.934251 -0.925485       -0.820081   \n",
       "\n",
       "   Viscera Weight  Shell Weight  \n",
       "0       -1.197655     -1.125492  \n",
       "1       -0.654334     -0.776635  \n",
       "2       -0.425835     -0.538778  \n",
       "3        0.528784      0.079651  \n",
       "4       -0.933611     -0.955027  "
      ]
     },
     "execution_count": 50,
     "metadata": {},
     "output_type": "execute_result"
    }
   ],
   "source": [
    "X_final.head()"
   ]
  },
  {
   "cell_type": "code",
   "execution_count": 51,
   "id": "07d11069",
   "metadata": {},
   "outputs": [],
   "source": [
    "# X_final.drop(labels=['id'], inplace=True, axis=1)"
   ]
  },
  {
   "cell_type": "code",
   "execution_count": 52,
   "id": "5627dd32",
   "metadata": {},
   "outputs": [
    {
     "data": {
      "text/plain": [
       "(49368, 9)"
      ]
     },
     "execution_count": 52,
     "metadata": {},
     "output_type": "execute_result"
    }
   ],
   "source": [
    "X_final.shape"
   ]
  },
  {
   "cell_type": "code",
   "execution_count": 53,
   "id": "8741b9f9",
   "metadata": {},
   "outputs": [
    {
     "name": "stdout",
     "output_type": "stream",
     "text": [
      "1543/1543 [==============================] - 1s 351us/step\n"
     ]
    }
   ],
   "source": [
    "y_pred_to_kaggle = model.predict(X_final)"
   ]
  },
  {
   "cell_type": "code",
   "execution_count": 54,
   "id": "3eddc03d",
   "metadata": {
    "scrolled": true
   },
   "outputs": [],
   "source": [
    "df_final['Age'] = y_pred_to_kaggle"
   ]
  },
  {
   "cell_type": "code",
   "execution_count": 55,
   "id": "a8b4f8ed",
   "metadata": {},
   "outputs": [
    {
     "data": {
      "text/html": [
       "<div>\n",
       "<style scoped>\n",
       "    .dataframe tbody tr th:only-of-type {\n",
       "        vertical-align: middle;\n",
       "    }\n",
       "\n",
       "    .dataframe tbody tr th {\n",
       "        vertical-align: top;\n",
       "    }\n",
       "\n",
       "    .dataframe thead th {\n",
       "        text-align: right;\n",
       "    }\n",
       "</style>\n",
       "<table border=\"1\" class=\"dataframe\">\n",
       "  <thead>\n",
       "    <tr style=\"text-align: right;\">\n",
       "      <th></th>\n",
       "      <th>id</th>\n",
       "      <th>Age</th>\n",
       "    </tr>\n",
       "  </thead>\n",
       "  <tbody>\n",
       "    <tr>\n",
       "      <th>0</th>\n",
       "      <td>74051</td>\n",
       "      <td>9.999546</td>\n",
       "    </tr>\n",
       "    <tr>\n",
       "      <th>1</th>\n",
       "      <td>74052</td>\n",
       "      <td>9.999546</td>\n",
       "    </tr>\n",
       "    <tr>\n",
       "      <th>2</th>\n",
       "      <td>74053</td>\n",
       "      <td>9.999546</td>\n",
       "    </tr>\n",
       "    <tr>\n",
       "      <th>3</th>\n",
       "      <td>74054</td>\n",
       "      <td>9.999546</td>\n",
       "    </tr>\n",
       "    <tr>\n",
       "      <th>4</th>\n",
       "      <td>74055</td>\n",
       "      <td>9.999546</td>\n",
       "    </tr>\n",
       "  </tbody>\n",
       "</table>\n",
       "</div>"
      ],
      "text/plain": [
       "      id       Age\n",
       "0  74051  9.999546\n",
       "1  74052  9.999546\n",
       "2  74053  9.999546\n",
       "3  74054  9.999546\n",
       "4  74055  9.999546"
      ]
     },
     "execution_count": 55,
     "metadata": {},
     "output_type": "execute_result"
    }
   ],
   "source": [
    "df_final.head()"
   ]
  },
  {
   "cell_type": "markdown",
   "id": "af37d749",
   "metadata": {},
   "source": [
    "## Submission Creation"
   ]
  },
  {
   "cell_type": "code",
   "execution_count": 59,
   "id": "391593d5",
   "metadata": {},
   "outputs": [],
   "source": [
    "df_final['Age'] = np.where(\n",
    "    np.abs(df_final['Age'] - df_final['Age'].round()) < 0.49,\n",
    "    df_final['Age'].round(),\n",
    "    df_final['Age']\n",
    ")"
   ]
  },
  {
   "cell_type": "code",
   "execution_count": 60,
   "id": "e91fad59",
   "metadata": {},
   "outputs": [
    {
     "data": {
      "text/html": [
       "<div>\n",
       "<style scoped>\n",
       "    .dataframe tbody tr th:only-of-type {\n",
       "        vertical-align: middle;\n",
       "    }\n",
       "\n",
       "    .dataframe tbody tr th {\n",
       "        vertical-align: top;\n",
       "    }\n",
       "\n",
       "    .dataframe thead th {\n",
       "        text-align: right;\n",
       "    }\n",
       "</style>\n",
       "<table border=\"1\" class=\"dataframe\">\n",
       "  <thead>\n",
       "    <tr style=\"text-align: right;\">\n",
       "      <th></th>\n",
       "      <th>id</th>\n",
       "      <th>Age</th>\n",
       "    </tr>\n",
       "  </thead>\n",
       "  <tbody>\n",
       "    <tr>\n",
       "      <th>0</th>\n",
       "      <td>74051</td>\n",
       "      <td>10.0</td>\n",
       "    </tr>\n",
       "    <tr>\n",
       "      <th>1</th>\n",
       "      <td>74052</td>\n",
       "      <td>10.0</td>\n",
       "    </tr>\n",
       "    <tr>\n",
       "      <th>2</th>\n",
       "      <td>74053</td>\n",
       "      <td>10.0</td>\n",
       "    </tr>\n",
       "    <tr>\n",
       "      <th>3</th>\n",
       "      <td>74054</td>\n",
       "      <td>10.0</td>\n",
       "    </tr>\n",
       "    <tr>\n",
       "      <th>4</th>\n",
       "      <td>74055</td>\n",
       "      <td>10.0</td>\n",
       "    </tr>\n",
       "  </tbody>\n",
       "</table>\n",
       "</div>"
      ],
      "text/plain": [
       "      id   Age\n",
       "0  74051  10.0\n",
       "1  74052  10.0\n",
       "2  74053  10.0\n",
       "3  74054  10.0\n",
       "4  74055  10.0"
      ]
     },
     "execution_count": 60,
     "metadata": {},
     "output_type": "execute_result"
    }
   ],
   "source": [
    "df_final.head()"
   ]
  },
  {
   "cell_type": "code",
   "execution_count": 61,
   "id": "258372c0",
   "metadata": {},
   "outputs": [],
   "source": [
    "df_final.to_csv('submission-tries/final_try.csv', index=False)"
   ]
  },
  {
   "cell_type": "code",
   "execution_count": null,
   "id": "41f4a736",
   "metadata": {},
   "outputs": [],
   "source": []
  }
 ],
 "metadata": {
  "kernelspec": {
   "display_name": "Python 3 (ipykernel)",
   "language": "python",
   "name": "python3"
  },
  "language_info": {
   "codemirror_mode": {
    "name": "ipython",
    "version": 3
   },
   "file_extension": ".py",
   "mimetype": "text/x-python",
   "name": "python",
   "nbconvert_exporter": "python",
   "pygments_lexer": "ipython3",
   "version": "3.10.10"
  }
 },
 "nbformat": 4,
 "nbformat_minor": 5
}
