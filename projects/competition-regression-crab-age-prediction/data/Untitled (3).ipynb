{
 "cells": [
  {
   "cell_type": "code",
   "execution_count": 1,
   "id": "7a17d873",
   "metadata": {},
   "outputs": [],
   "source": [
    "import pandas as pd\n",
    "import numpy as np"
   ]
  },
  {
   "cell_type": "code",
   "execution_count": 2,
   "id": "2bf38ed7",
   "metadata": {},
   "outputs": [],
   "source": [
    "df = pd.read_csv(\"train.csv\", index_col=\"id\")"
   ]
  },
  {
   "cell_type": "code",
   "execution_count": 3,
   "id": "b09d51f0",
   "metadata": {},
   "outputs": [],
   "source": [
    "df[\"I\"]=df[\"Sex\"].apply(lambda x: 1 if x==\"I\" else 0)\n",
    "df[\"M\"]=df[\"Sex\"].apply(lambda x: 1 if x==\"M\" else 0)\n",
    "df[\"F\"]=df[\"Sex\"].apply(lambda x: 1 if x==\"F\" else 0)\n",
    "df.drop(\"Sex\",axis=1,inplace=True)"
   ]
  },
  {
   "cell_type": "code",
   "execution_count": 7,
   "id": "6a36d0aa",
   "metadata": {},
   "outputs": [],
   "source": [
    "rows_to_remove = np.array([], dtype=int)\n",
    "for col in df.columns[:7]:\n",
    "    Q1 = df[col].quantile(0.20)\n",
    "    Q3 = df[col].quantile(0.85)\n",
    "    IQR = Q3 - Q1\n",
    "    lower = Q1 - 1.5 * IQR\n",
    "    upper = Q3 + 1.5 * IQR\n",
    "    mask_upper = df[col] >= upper\n",
    "    mask_lower = df[col] <= lower\n",
    "    if (mask_upper.sum() < 50) and (mask_lower.sum() < 50):\n",
    "        rows_to_remove = np.concatenate((rows_to_remove, np.where(mask_upper | mask_lower)[0]))\n",
    "    else:\n",
    "        print(f\"over 50: {col}\")\n",
    "df = df.drop(index=rows_to_remove)"
   ]
  },
  {
   "cell_type": "markdown",
   "id": "ce9caaf4",
   "metadata": {},
   "source": [
    "# scaling\n"
   ]
  },
  {
   "cell_type": "code",
   "execution_count": 8,
   "id": "298b2e0c",
   "metadata": {},
   "outputs": [],
   "source": [
    "from sklearn.preprocessing import StandardScaler\n",
    "from sklearn.model_selection import train_test_split"
   ]
  },
  {
   "cell_type": "code",
   "execution_count": 9,
   "id": "b793da78",
   "metadata": {},
   "outputs": [
    {
     "data": {
      "text/plain": [
       "Index(['Length', 'Diameter', 'Height', 'Weight', 'Shucked Weight',\n",
       "       'Viscera Weight', 'Shell Weight', 'Age', 'I', 'M', 'F'],\n",
       "      dtype='object')"
      ]
     },
     "execution_count": 9,
     "metadata": {},
     "output_type": "execute_result"
    }
   ],
   "source": [
    "df.columns"
   ]
  },
  {
   "cell_type": "code",
   "execution_count": 10,
   "id": "29c934e9",
   "metadata": {},
   "outputs": [],
   "source": [
    "X = df.drop(\"Age\", axis=1)\n",
    "y = df[\"Age\"]"
   ]
  },
  {
   "cell_type": "code",
   "execution_count": 11,
   "id": "b935fdda",
   "metadata": {},
   "outputs": [],
   "source": [
    "scal_col=[\"Length\",\"Diameter\",\"Height\",\"Weight\",\"Shucked Weight\",\"Viscera Weight\",\"Shell Weight\"]"
   ]
  },
  {
   "cell_type": "code",
   "execution_count": 12,
   "id": "f14e52e4",
   "metadata": {},
   "outputs": [],
   "source": [
    "scaler = StandardScaler()\n",
    "X_scaled = scaler.fit_transform(X[scal_col])\n",
    "X[scal_col]=X_scaled\n"
   ]
  },
  {
   "cell_type": "code",
   "execution_count": 13,
   "id": "34e5d793",
   "metadata": {},
   "outputs": [
    {
     "data": {
      "text/html": [
       "<div>\n",
       "<style scoped>\n",
       "    .dataframe tbody tr th:only-of-type {\n",
       "        vertical-align: middle;\n",
       "    }\n",
       "\n",
       "    .dataframe tbody tr th {\n",
       "        vertical-align: top;\n",
       "    }\n",
       "\n",
       "    .dataframe thead th {\n",
       "        text-align: right;\n",
       "    }\n",
       "</style>\n",
       "<table border=\"1\" class=\"dataframe\">\n",
       "  <thead>\n",
       "    <tr style=\"text-align: right;\">\n",
       "      <th></th>\n",
       "      <th>Length</th>\n",
       "      <th>Diameter</th>\n",
       "      <th>Height</th>\n",
       "      <th>Weight</th>\n",
       "      <th>Shucked Weight</th>\n",
       "      <th>Viscera Weight</th>\n",
       "      <th>Shell Weight</th>\n",
       "      <th>I</th>\n",
       "      <th>M</th>\n",
       "      <th>F</th>\n",
       "    </tr>\n",
       "    <tr>\n",
       "      <th>id</th>\n",
       "      <th></th>\n",
       "      <th></th>\n",
       "      <th></th>\n",
       "      <th></th>\n",
       "      <th></th>\n",
       "      <th></th>\n",
       "      <th></th>\n",
       "      <th></th>\n",
       "      <th></th>\n",
       "      <th></th>\n",
       "    </tr>\n",
       "  </thead>\n",
       "  <tbody>\n",
       "    <tr>\n",
       "      <th>0</th>\n",
       "      <td>0.723536</td>\n",
       "      <td>0.635827</td>\n",
       "      <td>0.297541</td>\n",
       "      <td>0.445884</td>\n",
       "      <td>0.471832</td>\n",
       "      <td>0.573015</td>\n",
       "      <td>0.458777</td>\n",
       "      <td>1</td>\n",
       "      <td>0</td>\n",
       "      <td>0</td>\n",
       "    </tr>\n",
       "  </tbody>\n",
       "</table>\n",
       "</div>"
      ],
      "text/plain": [
       "      Length  Diameter    Height    Weight  Shucked Weight  Viscera Weight  \\\n",
       "id                                                                           \n",
       "0   0.723536  0.635827  0.297541  0.445884        0.471832        0.573015   \n",
       "\n",
       "    Shell Weight  I  M  F  \n",
       "id                         \n",
       "0       0.458777  1  0  0  "
      ]
     },
     "execution_count": 13,
     "metadata": {},
     "output_type": "execute_result"
    }
   ],
   "source": [
    "X.head(1)"
   ]
  },
  {
   "cell_type": "code",
   "execution_count": 14,
   "id": "7ac4094a",
   "metadata": {},
   "outputs": [],
   "source": [
    "X_train, X_test, y_train, y_test = train_test_split(X, y, test_size=0.1, random_state=1)"
   ]
  },
  {
   "cell_type": "markdown",
   "id": "2a4e2f7b",
   "metadata": {},
   "source": [
    "Some basic test model"
   ]
  },
  {
   "cell_type": "code",
   "execution_count": 17,
   "id": "6c0d7cf8",
   "metadata": {},
   "outputs": [],
   "source": [
    "from sklearn.linear_model import LinearRegression\n",
    "from sklearn.metrics import mean_squared_error\n",
    "from sklearn.model_selection import train_test_split\n",
    "from sklearn.tree import DecisionTreeRegressor\n",
    "from sklearn import tree\n",
    "from sklearn.metrics import mean_squared_error as mse\n",
    "from sklearn.metrics import mean_absolute_error as mae\n",
    "from sklearn.metrics import r2_score\n",
    "from sklearn import tree\n",
    "from sklearn.model_selection import cross_val_score, KFold\n",
    "from sklearn.model_selection import GridSearchCV\n",
    "from tensorflow.keras import models\n",
    "from tensorflow.keras.layers import Dense\n",
    "from sklearn.model_selection import train_test_split"
   ]
  },
  {
   "cell_type": "code",
   "execution_count": null,
   "id": "5c62e45c",
   "metadata": {},
   "outputs": [],
   "source": [
    "from tensorflow.keras import models\n",
    "from tensorflow.keras.layers import Dense\n",
    "from sklearn.model_selection import train_test_split"
   ]
  },
  {
   "cell_type": "code",
   "execution_count": 18,
   "id": "f51b322e",
   "metadata": {},
   "outputs": [
    {
     "data": {
      "text/html": [
       "<div>\n",
       "<style scoped>\n",
       "    .dataframe tbody tr th:only-of-type {\n",
       "        vertical-align: middle;\n",
       "    }\n",
       "\n",
       "    .dataframe tbody tr th {\n",
       "        vertical-align: top;\n",
       "    }\n",
       "\n",
       "    .dataframe thead th {\n",
       "        text-align: right;\n",
       "    }\n",
       "</style>\n",
       "<table border=\"1\" class=\"dataframe\">\n",
       "  <thead>\n",
       "    <tr style=\"text-align: right;\">\n",
       "      <th></th>\n",
       "      <th>Length</th>\n",
       "      <th>Diameter</th>\n",
       "      <th>Height</th>\n",
       "      <th>Weight</th>\n",
       "      <th>Shucked Weight</th>\n",
       "      <th>Viscera Weight</th>\n",
       "      <th>Shell Weight</th>\n",
       "      <th>I</th>\n",
       "      <th>M</th>\n",
       "      <th>F</th>\n",
       "    </tr>\n",
       "    <tr>\n",
       "      <th>id</th>\n",
       "      <th></th>\n",
       "      <th></th>\n",
       "      <th></th>\n",
       "      <th></th>\n",
       "      <th></th>\n",
       "      <th></th>\n",
       "      <th></th>\n",
       "      <th></th>\n",
       "      <th></th>\n",
       "      <th></th>\n",
       "    </tr>\n",
       "  </thead>\n",
       "  <tbody>\n",
       "    <tr>\n",
       "      <th>67545</th>\n",
       "      <td>0.81078</td>\n",
       "      <td>0.794423</td>\n",
       "      <td>0.987784</td>\n",
       "      <td>0.889818</td>\n",
       "      <td>0.900847</td>\n",
       "      <td>0.914586</td>\n",
       "      <td>0.80932</td>\n",
       "      <td>0</td>\n",
       "      <td>1</td>\n",
       "      <td>0</td>\n",
       "    </tr>\n",
       "  </tbody>\n",
       "</table>\n",
       "</div>"
      ],
      "text/plain": [
       "        Length  Diameter    Height    Weight  Shucked Weight  Viscera Weight  \\\n",
       "id                                                                             \n",
       "67545  0.81078  0.794423  0.987784  0.889818        0.900847        0.914586   \n",
       "\n",
       "       Shell Weight  I  M  F  \n",
       "id                            \n",
       "67545       0.80932  0  1  0  "
      ]
     },
     "execution_count": 18,
     "metadata": {},
     "output_type": "execute_result"
    }
   ],
   "source": [
    "X_train.head(1)"
   ]
  },
  {
   "cell_type": "code",
   "execution_count": null,
   "id": "307acc10",
   "metadata": {},
   "outputs": [],
   "source": [
    "keras.backend.clear_session()"
   ]
  },
  {
   "cell_type": "code",
   "execution_count": 4,
   "id": "173808ec",
   "metadata": {
    "scrolled": true
   },
   "outputs": [
    {
     "ename": "NameError",
     "evalue": "name 'models' is not defined",
     "output_type": "error",
     "traceback": [
      "\u001b[0;31m---------------------------------------------------------------------------\u001b[0m",
      "\u001b[0;31mNameError\u001b[0m                                 Traceback (most recent call last)",
      "Cell \u001b[0;32mIn[4], line 1\u001b[0m\n\u001b[0;32m----> 1\u001b[0m model \u001b[38;5;241m=\u001b[39m \u001b[43mmodels\u001b[49m\u001b[38;5;241m.\u001b[39mSequential()\n\u001b[1;32m      2\u001b[0m model\u001b[38;5;241m.\u001b[39madd(Dense(\u001b[38;5;241m4\u001b[39m, activation\u001b[38;5;241m=\u001b[39m\u001b[38;5;124m\"\u001b[39m\u001b[38;5;124mtanh\u001b[39m\u001b[38;5;124m\"\u001b[39m, input_shape\u001b[38;5;241m=\u001b[39m(X\u001b[38;5;241m.\u001b[39mshape[\u001b[38;5;241m1\u001b[39m],)))\n\u001b[1;32m      3\u001b[0m model\u001b[38;5;241m.\u001b[39madd(Dense(\u001b[38;5;241m12\u001b[39m, activation \u001b[38;5;241m=\u001b[39m \u001b[38;5;124m\"\u001b[39m\u001b[38;5;124mtanh\u001b[39m\u001b[38;5;124m\"\u001b[39m))\n",
      "\u001b[0;31mNameError\u001b[0m: name 'models' is not defined"
     ]
    }
   ],
   "source": [
    "model = models.Sequential()\n",
    "model.add(Dense(4, activation=\"tanh\", input_shape=(X.shape[1],)))\n",
    "model.add(Dense(12, activation = \"tanh\"))\n",
    "model.add(Dense(24, activation = \"tanh\"))\n",
    "model.add(Dense(36, activation = \"tanh\"))\n",
    "model.add(Dense(64, activation = \"tanh\"))\n",
    "model.add(Dense(24, activation = \"tanh\"))\n",
    "model.add(Dense(12, activation = \"tanh\"))\n",
    "model.add(Dense(4, activation = \"tanh\"))\n",
    "model.add(Dense(units = 1)) \n",
    "model.compile(\n",
    "    optimizer=\"nadam\",\n",
    "    loss=\"mean_absolute_error\",\n",
    "    metrics=[\"mean_absolute_error\"]\n",
    ")\n",
    "model.fit(X_train, y_train, batch_size=400, epochs=400)"
   ]
  },
  {
   "cell_type": "code",
   "execution_count": 20,
   "id": "d429eea5",
   "metadata": {},
   "outputs": [],
   "source": [
    "preds = model.predict(X_test)"
   ]
  },
  {
   "cell_type": "code",
   "execution_count": 21,
   "id": "b8cb084f",
   "metadata": {},
   "outputs": [],
   "source": [
    "for i in range(len(preds)):\n",
    "    if -0.4 < (np.round(preds[i], 2)- np.round(preds[i], 0)) <0.4:\n",
    "        preds[i]=np.round(preds[i], 0)"
   ]
  },
  {
   "cell_type": "code",
   "execution_count": 22,
   "id": "45226801",
   "metadata": {},
   "outputs": [
    {
     "data": {
      "text/plain": [
       "1.3608481576303384"
      ]
     },
     "execution_count": 22,
     "metadata": {},
     "output_type": "execute_result"
    }
   ],
   "source": [
    "mae(y_test, preds)"
   ]
  },
  {
   "cell_type": "code",
   "execution_count": null,
   "id": "b7e491d0",
   "metadata": {
    "scrolled": true
   },
   "outputs": [],
   "source": [
    "model.summary()"
   ]
  },
  {
   "cell_type": "code",
   "execution_count": null,
   "id": "d1d6d7b1",
   "metadata": {},
   "outputs": [],
   "source": [
    "# dences(4- tanh,12- tanh,24- tanh,36-tanh,64 - tanh,24 - tanh ,12- tanh,4- tanh,2- tanh), opti = \"nadam\""
   ]
  },
  {
   "cell_type": "code",
   "execution_count": null,
   "id": "34f40b9f",
   "metadata": {
    "scrolled": true
   },
   "outputs": [],
   "source": [
    "model = models.Sequential()\n",
    "model.add(Dense(4, activation=\"tanh\", input_shape=(X.shape[1],)))\n",
    "model.add(Dense(12, activation = \"tanh\"))\n",
    "model.add(Dense(24, activation = \"tanh\"))\n",
    "model.add(Dense(36, activation = \"relu\"))\n",
    "model.add(Dense(64, activation = \"relu\"))\n",
    "model.add(Dense(24, activation = \"relu\"))\n",
    "model.add(Dense(12, activation = \"tanh\"))\n",
    "model.add(Dense(4, activation = \"tanh\"))\n",
    "model.add(Dense(2, activation = \"tanh\"))\n",
    "model.add(Dense(units = 1)) \n",
    "model.compile(\n",
    "    optimizer=\"nadam\",\n",
    "    loss=\"mean_absolute_error\",\n",
    ")\n",
    "model.fit(X_train, y_train, batch_size=400, epochs=400)"
   ]
  },
  {
   "cell_type": "code",
   "execution_count": null,
   "id": "69f82b77",
   "metadata": {},
   "outputs": [],
   "source": [
    "preds = model.predict(X_test)\n",
    "for i in range(len(preds)):\n",
    "    if -0.4 < (np.round(preds[i], 2)- np.round(preds[i], 0)) <0.4:\n",
    "        preds[i]=np.round(preds[i], 0)\n",
    "mae(y_test, preds)"
   ]
  },
  {
   "cell_type": "code",
   "execution_count": null,
   "id": "043a2b21",
   "metadata": {},
   "outputs": [],
   "source": [
    "X_test.head(1)"
   ]
  },
  {
   "cell_type": "code",
   "execution_count": 23,
   "id": "e8a6c3cb",
   "metadata": {},
   "outputs": [],
   "source": [
    "import tensorflow as tf"
   ]
  },
  {
   "cell_type": "code",
   "execution_count": 24,
   "id": "e18a24d8",
   "metadata": {},
   "outputs": [
    {
     "ename": "AttributeError",
     "evalue": "module 'tensorflow' has no attribute 'Session'",
     "output_type": "error",
     "traceback": [
      "\u001b[1;31m---------------------------------------------------------------------------\u001b[0m",
      "\u001b[1;31mAttributeError\u001b[0m                            Traceback (most recent call last)",
      "\u001b[1;32m~\\AppData\\Local\\Temp\\ipykernel_17740\\2269825933.py\u001b[0m in \u001b[0;36m<module>\u001b[1;34m\u001b[0m\n\u001b[1;32m----> 1\u001b[1;33m \u001b[0msess\u001b[0m \u001b[1;33m=\u001b[0m \u001b[0mtf\u001b[0m\u001b[1;33m.\u001b[0m\u001b[0mSession\u001b[0m\u001b[1;33m(\u001b[0m\u001b[0mconfig\u001b[0m\u001b[1;33m=\u001b[0m\u001b[0mtf\u001b[0m\u001b[1;33m.\u001b[0m\u001b[0mConfigProto\u001b[0m\u001b[1;33m(\u001b[0m\u001b[0mlog_device_placement\u001b[0m\u001b[1;33m=\u001b[0m\u001b[1;32mTrue\u001b[0m\u001b[1;33m)\u001b[0m\u001b[1;33m)\u001b[0m\u001b[1;33m\u001b[0m\u001b[1;33m\u001b[0m\u001b[0m\n\u001b[0m",
      "\u001b[1;31mAttributeError\u001b[0m: module 'tensorflow' has no attribute 'Session'"
     ]
    }
   ],
   "source": [
    "sess = tf.Session(config=tf.ConfigProto(log_device_placement=True))"
   ]
  },
  {
   "cell_type": "code",
   "execution_count": null,
   "id": "8753f0e5",
   "metadata": {},
   "outputs": [],
   "source": [
    "res1_scaled=results"
   ]
  },
  {
   "cell_type": "markdown",
   "id": "b5904c1d",
   "metadata": {},
   "source": [
    "Koniec Wyników "
   ]
  },
  {
   "cell_type": "code",
   "execution_count": null,
   "id": "141e7f51",
   "metadata": {},
   "outputs": [],
   "source": [
    "test = pd.read_csv(\"test.csv\", index_col=\"id\")"
   ]
  },
  {
   "cell_type": "code",
   "execution_count": null,
   "id": "6a35549e",
   "metadata": {},
   "outputs": [],
   "source": [
    "test[\"I\"]=test[\"Sex\"].apply(lambda x: 1 if x==\"I\" else 0)\n",
    "test[\"M\"]=test[\"Sex\"].apply(lambda x: 1 if x==\"M\" else 0)\n",
    "test[\"F\"]=test[\"Sex\"].apply(lambda x: 1 if x==\"F\" else 0)\n",
    "test.drop(\"Sex\",axis=1,inplace=True)"
   ]
  },
  {
   "cell_type": "code",
   "execution_count": null,
   "id": "a1a4a95b",
   "metadata": {},
   "outputs": [],
   "source": [
    "scal_col=[\"Length\",\"Diameter\",\"Height\",\"Weight\",\"Shucked Weight\",\"Viscera Weight\",\"Shell Weight\"]"
   ]
  },
  {
   "cell_type": "code",
   "execution_count": null,
   "id": "c693b235",
   "metadata": {},
   "outputs": [],
   "source": [
    "Test_scaled = scaler.transform(test[scal_col])\n",
    "test[scal_col]=Test_scaled"
   ]
  },
  {
   "cell_type": "code",
   "execution_count": null,
   "id": "608323b0",
   "metadata": {},
   "outputs": [],
   "source": [
    "test.head(1)"
   ]
  },
  {
   "cell_type": "code",
   "execution_count": null,
   "id": "3d319ea2",
   "metadata": {
    "scrolled": true
   },
   "outputs": [],
   "source": [
    "ver1_preds=model.predict(test)"
   ]
  },
  {
   "cell_type": "code",
   "execution_count": null,
   "id": "f0224653",
   "metadata": {},
   "outputs": [],
   "source": [
    "for i in range(len(ver1_preds)):\n",
    "    if -0.4 < (np.round(ver1_preds[i], 2)- np.round(ver1_preds[i], 0)) <0.4:\n",
    "        ver1_preds[i]=np.round(ver1_preds[i], 0)"
   ]
  },
  {
   "cell_type": "code",
   "execution_count": null,
   "id": "ead6e463",
   "metadata": {
    "scrolled": true
   },
   "outputs": [],
   "source": [
    "ver1_preds"
   ]
  },
  {
   "cell_type": "code",
   "execution_count": null,
   "id": "bd51fe77",
   "metadata": {},
   "outputs": [],
   "source": [
    "ver1 = pd.DataFrame(index=test.index, data= ver1_preds)"
   ]
  },
  {
   "cell_type": "code",
   "execution_count": null,
   "id": "12d502e9",
   "metadata": {},
   "outputs": [],
   "source": [
    "ver1.columns=[\"Age\"]"
   ]
  },
  {
   "cell_type": "code",
   "execution_count": null,
   "id": "0a2c1889",
   "metadata": {},
   "outputs": [],
   "source": [
    "ver1.head(1)"
   ]
  },
  {
   "cell_type": "code",
   "execution_count": null,
   "id": "2cf81838",
   "metadata": {},
   "outputs": [],
   "source": [
    "ver1.to_csv('versionone.csv')"
   ]
  },
  {
   "cell_type": "code",
   "execution_count": null,
   "id": "9461098e",
   "metadata": {},
   "outputs": [],
   "source": []
  },
  {
   "cell_type": "code",
   "execution_count": null,
   "id": "228a0c19",
   "metadata": {},
   "outputs": [],
   "source": [
    "testeedd = pd.read_csv('versionone.csv', index_col=\"id\")\n",
    "testeedd"
   ]
  }
 ],
 "metadata": {
  "kernelspec": {
   "display_name": "Python 3 (ipykernel)",
   "language": "python",
   "name": "python3"
  },
  "language_info": {
   "codemirror_mode": {
    "name": "ipython",
    "version": 3
   },
   "file_extension": ".py",
   "mimetype": "text/x-python",
   "name": "python",
   "nbconvert_exporter": "python",
   "pygments_lexer": "ipython3",
   "version": "3.10.10"
  }
 },
 "nbformat": 4,
 "nbformat_minor": 5
}
